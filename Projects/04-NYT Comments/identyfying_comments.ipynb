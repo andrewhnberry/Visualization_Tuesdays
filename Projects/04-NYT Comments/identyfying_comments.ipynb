{
 "cells": [
  {
   "cell_type": "markdown",
   "metadata": {},
   "source": [
    "### Let's look into these comments and see if we can identify certain topics from it? \n"
   ]
  },
  {
   "cell_type": "code",
   "execution_count": 14,
   "metadata": {},
   "outputs": [],
   "source": [
    "import pandas as pd\n",
    "pd.set_option('display.max_colwidth',1000)\n",
    "import numpy as np\n",
    "import matplotlib.pyplot as plt\n",
    "\n",
    "#NLP plugins required\n",
    "from sklearn.feature_extraction.text import TfidfVectorizer\n",
    "from nltk.stem.snowball import SnowballStemmer\n",
    "from nltk.corpus import stopwords \n",
    "\n",
    "\n",
    "#Topic Modeling \n",
    "from sklearn.decomposition import NMF\n"
   ]
  },
  {
   "cell_type": "code",
   "execution_count": 13,
   "metadata": {},
   "outputs": [
    {
     "data": {
      "text/html": [
       "<div>\n",
       "<style scoped>\n",
       "    .dataframe tbody tr th:only-of-type {\n",
       "        vertical-align: middle;\n",
       "    }\n",
       "\n",
       "    .dataframe tbody tr th {\n",
       "        vertical-align: top;\n",
       "    }\n",
       "\n",
       "    .dataframe thead th {\n",
       "        text-align: right;\n",
       "    }\n",
       "</style>\n",
       "<table border=\"1\" class=\"dataframe\">\n",
       "  <thead>\n",
       "    <tr style=\"text-align: right;\">\n",
       "      <th></th>\n",
       "      <th>index</th>\n",
       "      <th>commentID</th>\n",
       "      <th>userDisplayName</th>\n",
       "      <th>userLocation</th>\n",
       "      <th>commentBody</th>\n",
       "      <th>recommendations</th>\n",
       "      <th>replyCount</th>\n",
       "      <th>replies</th>\n",
       "      <th>editorsSelection</th>\n",
       "      <th>recommendedFlag</th>\n",
       "      <th>isAnonymous</th>\n",
       "    </tr>\n",
       "  </thead>\n",
       "  <tbody>\n",
       "    <tr>\n",
       "      <th>0</th>\n",
       "      <td>0</td>\n",
       "      <td>107400406</td>\n",
       "      <td>Peter</td>\n",
       "      <td>New York</td>\n",
       "      <td>Identity politics brings out the worst in people. Whether it is Amy Cooper, Jussie Smollett, riots where people attacks innocents to prove another point, all it shows is that the accusers are flawed, that victimhood is a very problematic position, fraught with unfair aggression. How quickly victims turn to perpetrators today is probably due to how the position is celebrated in media. No wonder. Victimhood allows you to spit in the face of others without consequences - it is the most entitled and privileged position there is today. What happens to a society when it only celebrates weakness? It is the beginning of the end. The downfall of true morality and individual happiness and trust. Because you cannot trust the person who solves life by accusing, not through overcoming and giving. People of color are becoming incredibly racist in the USA. I have read books about race presented with such bias that they made me imagine that this is how Mein Kampf was written, Hitler’s statement of...</td>\n",
       "      <td>0</td>\n",
       "      <td>0</td>\n",
       "      <td>[]</td>\n",
       "      <td>False</td>\n",
       "      <td>0</td>\n",
       "      <td>False</td>\n",
       "    </tr>\n",
       "    <tr>\n",
       "      <th>1</th>\n",
       "      <td>1</td>\n",
       "      <td>107400445</td>\n",
       "      <td>AACNY</td>\n",
       "      <td>New York</td>\n",
       "      <td>Not so \"peaceful\" in the Bronx last night.</td>\n",
       "      <td>1</td>\n",
       "      <td>0</td>\n",
       "      <td>[]</td>\n",
       "      <td>False</td>\n",
       "      <td>0</td>\n",
       "      <td>False</td>\n",
       "    </tr>\n",
       "    <tr>\n",
       "      <th>2</th>\n",
       "      <td>2</td>\n",
       "      <td>107400536</td>\n",
       "      <td>karen</td>\n",
       "      <td>florida</td>\n",
       "      <td>I was awaiting a huge bolt of lightening to explode over Trump while he was mishandling the Bible.</td>\n",
       "      <td>2</td>\n",
       "      <td>0</td>\n",
       "      <td>[]</td>\n",
       "      <td>False</td>\n",
       "      <td>0</td>\n",
       "      <td>False</td>\n",
       "    </tr>\n",
       "  </tbody>\n",
       "</table>\n",
       "</div>"
      ],
      "text/plain": [
       "   index  commentID userDisplayName userLocation  \\\n",
       "0      0  107400406           Peter     New York   \n",
       "1      1  107400445           AACNY     New York   \n",
       "2      2  107400536           karen      florida   \n",
       "\n",
       "                                                                                                                                                                                                                                                                                                                                                                                                                                                                                                                                                                                                                                                                                                                                                                                                                                                                                                                                                                                                                               commentBody  \\\n",
       "0  Identity politics brings out the worst in people. Whether it is Amy Cooper, Jussie Smollett, riots where people attacks innocents to prove another point, all it shows is that the accusers are flawed, that victimhood is a very problematic position, fraught with unfair aggression. How quickly victims turn to perpetrators today is probably due to how the position is celebrated in media. No wonder. Victimhood allows you to spit in the face of others without consequences - it is the most entitled and privileged position there is today. What happens to a society when it only celebrates weakness? It is the beginning of the end. The downfall of true morality and individual happiness and trust. Because you cannot trust the person who solves life by accusing, not through overcoming and giving. People of color are becoming incredibly racist in the USA. I have read books about race presented with such bias that they made me imagine that this is how Mein Kampf was written, Hitler’s statement of...   \n",
       "1                                                                                                                                                                                                                                                                                                                                                                                                                                                                                                                                                                                                                                                                                                                                                                                                                                                                                                                                                                                               Not so \"peaceful\" in the Bronx last night.   \n",
       "2                                                                                                                                                                                                                                                                                                                                                                                                                                                                                                                                                                                                                                                                                                                                                                                                                                                                                                                                       I was awaiting a huge bolt of lightening to explode over Trump while he was mishandling the Bible.   \n",
       "\n",
       "   recommendations  replyCount replies  editorsSelection  recommendedFlag  \\\n",
       "0                0           0      []             False                0   \n",
       "1                1           0      []             False                0   \n",
       "2                2           0      []             False                0   \n",
       "\n",
       "   isAnonymous  \n",
       "0        False  \n",
       "1        False  \n",
       "2        False  "
      ]
     },
     "execution_count": 13,
     "metadata": {},
     "output_type": "execute_result"
    }
   ],
   "source": [
    "df = pd.read_csv('nyt_comments.csv', index_col = 0)\n",
    "df.head(3)"
   ]
  },
  {
   "cell_type": "markdown",
   "metadata": {},
   "source": [
    "Since we're only doing topic modeling, we only just need the text column. In this case it's the commentBody."
   ]
  },
  {
   "cell_type": "code",
   "execution_count": 15,
   "metadata": {},
   "outputs": [],
   "source": [
    "stop_words = stopwords.words('english')\n",
    "def tokenizer(text):\n",
    "    '''\n",
    "    Simple tokenizer:\n",
    "    1.) Removes stopwords\n",
    "    2.) Use Snowball stemmer\n",
    "    '''\n",
    "    \n",
    "    #Split each word up in text, which is a long string of words. \n",
    "    #These words are called tokens\n",
    "    \n",
    "    list_of_tokens = text.split(' ')\n",
    "    \n",
    "    #Let us use a stemmer\n",
    "    stemmer = SnowballStemmer()\n",
    "    \n",
    "    #list of cleaned_tokens\n",
    "    cleaned_tokens = []\n",
    "\n",
    "    #Remove Stopwords\n",
    "    for token in list_of_tokens:\n",
    "        if (not token in stop_words):\n",
    "            # Stemm words\n",
    "            token_stemmed = stemmer.stem(token)\n",
    "                \n",
    "            cleaned_tokens.append(token_stemmed)\n",
    "            \n",
    "    return cleaned_tokens\n"
   ]
  },
  {
   "cell_type": "code",
   "execution_count": 16,
   "metadata": {},
   "outputs": [],
   "source": [
    "#Instatiate TFIDF model\n",
    "tfidf = TfidfVectorizer(tokenizer = tokenizer, \n",
    "                           min_df = 25, \n",
    "                           ngram_range = (1,3), \n",
    "                           lowercase = True)"
   ]
  },
  {
   "cell_type": "code",
   "execution_count": 21,
   "metadata": {},
   "outputs": [],
   "source": [
    "matrix = tfidf.fit_transform(df.commentBody)"
   ]
  },
  {
   "cell_type": "code",
   "execution_count": 26,
   "metadata": {},
   "outputs": [],
   "source": [
    "matrix_df = pd.DataFrame(matrix.toarray(),\n",
    "                        columns = tfidf.get_feature_names())"
   ]
  },
  {
   "cell_type": "code",
   "execution_count": 33,
   "metadata": {},
   "outputs": [
    {
     "data": {
      "text/plain": [
       "NMF(alpha=0.0, beta_loss='frobenius', init=None, l1_ratio=0.0, max_iter=200,\n",
       "    n_components=20, random_state=None, shuffle=False, solver='cd', tol=0.0001,\n",
       "    verbose=0)"
      ]
     },
     "execution_count": 33,
     "metadata": {},
     "output_type": "execute_result"
    }
   ],
   "source": [
    "#Topic Modeling\n",
    "\n",
    "NMF_model = NMF(n_components = 20)\n",
    "NMF_model.fit(matrix)"
   ]
  },
  {
   "cell_type": "code",
   "execution_count": 34,
   "metadata": {},
   "outputs": [
    {
     "name": "stdout",
     "output_type": "stream",
     "text": [
      "Topic 0:     trump countri want back march night care sure last senat that country. gop said take seem tri anyon\n",
      "Topic 1: america great - come much republican carri civil know he power novemb world democraci help countri think war speak said\n",
      "Topic 2: trump donald want donald trump support  trump people. realli well vote refus long demonstr let take could bring without year actual\n",
      "Topic 3: barr trump. trump, author action know wonder clear attorney justic he mr. attorney general park constitut general believ tri two peac\n",
      "Topic 4: protest peac peac protest gass - could violenc continu clear make looter violent leader loot cover anoth stand lead attack way\n",
      "Topic 5: bibl hold church hold bibl front front church pose could show burn go look i'm even read gass stand yesterday anyon noth\n",
      "Topic 6: militari use american us forc citizen unit state turn threaten attack - act shoot unit state power war come govern follow\n",
      "Topic 7: polic offic polic offic brutal citi violenc cop protect violent forc stop citizen public black arrest problem good think way riot\n",
      "Topic 8: need donald start donald trump support like bring give american lead make govern work also hear help way democrat biden justic\n",
      "Topic 9: white gas tear tear gas white hous hous use walk bullet clear rubber pose demonstr happen church arm park protesters. without could\n",
      "Topic 10: would like read support never ever enough civil fact countri thought war sure news good see realli start riot keep\n",
      "Topic 11: get go vote keep know way see make arrest november. let like stop back don't away place point sinc may\n",
      "Topic 12: presid state unit state unit violenc last watch biden go pose like republican action nation show american take clear church mr.\n",
      "Topic 13: peopl live mani good countri think go like vote still busi show real looter much govern kill speak hope stand\n",
      "Topic 14: photo op photo op church front clear protestor st. last use gass tear way stand watch two front church cover far rubber\n",
      "Topic 15: order law law enforc enforc attorney general attorney general feder offic follow -- i'm clear state fire give constitut president. park mean\n",
      "Topic 16: right first amend first amend exercis constitut govern can't live now. civil peac mean remov think us attack power attorney loot\n",
      "Topic 17: time call nation mani guard nation guard see say made must last much day new us citi seen work know take\n",
      "Topic 18: georg man floyd black georg floyd murder kill death say cop american destroy white mr. everyon see tri person crimin old\n",
      "Topic 19: one thing support seen know may go wonder social mani trump. care curfew day want least start must like media\n"
     ]
    }
   ],
   "source": [
    "n_words = 20\n",
    "token_names = tfidf.get_feature_names()\n",
    "topic_list = []\n",
    "for topic_num, topic in enumerate(NMF_model.components_):\n",
    "    top_tokens = [token_names[i] for i in topic.argsort()][::-1][:n_words]\n",
    "    top_n = ' '.join(top_tokens)\n",
    "    topic_list.append(f\"topic_{'_'.join(top_tokens[:3])}\") \n",
    "    \n",
    "    print(f'Topic {topic_num}: {top_n}')"
   ]
  },
  {
   "cell_type": "code",
   "execution_count": 31,
   "metadata": {},
   "outputs": [
    {
     "name": "stdout",
     "output_type": "stream",
     "text": [
      "['topic__ _ trump', 'topic_peopl_get_go', 'topic_trump_america_call', 'topic_barr_order_trump.', 'topic_protest_peac_peac protest', 'topic_bibl_photo_church', 'topic_militari_order_presid', 'topic_polic_offic_polic offic', 'topic_need_donald_start', 'topic_white_gas_tear']\n"
     ]
    }
   ],
   "source": [
    "print(topic_list)"
   ]
  },
  {
   "cell_type": "code",
   "execution_count": null,
   "metadata": {},
   "outputs": [],
   "source": []
  }
 ],
 "metadata": {
  "kernelspec": {
   "display_name": "Python 3",
   "language": "python",
   "name": "python3"
  },
  "language_info": {
   "codemirror_mode": {
    "name": "ipython",
    "version": 3
   },
   "file_extension": ".py",
   "mimetype": "text/x-python",
   "name": "python",
   "nbconvert_exporter": "python",
   "pygments_lexer": "ipython3",
   "version": "3.7.6"
  }
 },
 "nbformat": 4,
 "nbformat_minor": 4
}
