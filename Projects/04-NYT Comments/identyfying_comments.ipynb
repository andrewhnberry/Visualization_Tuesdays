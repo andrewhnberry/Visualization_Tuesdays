{
 "cells": [
  {
   "cell_type": "markdown",
   "metadata": {},
   "source": [
    "### Let's look into these comments and see if we can identify certain topics from it? \n"
   ]
  },
  {
   "cell_type": "code",
   "execution_count": 47,
   "metadata": {},
   "outputs": [],
   "source": [
    "import pandas as pd\n",
    "pd.set_option('display.max_colwidth',1000)\n",
    "#import numpy as np\n",
    "import matplotlib.pyplot as plt\n",
    "\n",
    "#NLP plugins required\n",
    "from sklearn.feature_extraction.text import TfidfVectorizer\n",
    "from nltk.stem.snowball import SnowballStemmer\n",
    "from nltk.corpus import stopwords \n",
    "import string\n",
    "\n",
    "\n",
    "#Topic Modeling \n",
    "from sklearn.decomposition import NMF\n",
    "from sklearn.decomposition import LatentDirichletAllocation as LDA\n",
    "\n",
    "#Import visualization tools for LDA models\n",
    "import pyLDAvis\n",
    "import pyLDAvis.sklearn\n",
    "pyLDAvis.enable_notebook()"
   ]
  },
  {
   "cell_type": "code",
   "execution_count": 2,
   "metadata": {},
   "outputs": [
    {
     "data": {
      "text/html": [
       "<div>\n",
       "<style scoped>\n",
       "    .dataframe tbody tr th:only-of-type {\n",
       "        vertical-align: middle;\n",
       "    }\n",
       "\n",
       "    .dataframe tbody tr th {\n",
       "        vertical-align: top;\n",
       "    }\n",
       "\n",
       "    .dataframe thead th {\n",
       "        text-align: right;\n",
       "    }\n",
       "</style>\n",
       "<table border=\"1\" class=\"dataframe\">\n",
       "  <thead>\n",
       "    <tr style=\"text-align: right;\">\n",
       "      <th></th>\n",
       "      <th>index</th>\n",
       "      <th>commentID</th>\n",
       "      <th>userDisplayName</th>\n",
       "      <th>userLocation</th>\n",
       "      <th>commentBody</th>\n",
       "      <th>recommendations</th>\n",
       "      <th>replyCount</th>\n",
       "      <th>replies</th>\n",
       "      <th>editorsSelection</th>\n",
       "      <th>recommendedFlag</th>\n",
       "      <th>isAnonymous</th>\n",
       "    </tr>\n",
       "  </thead>\n",
       "  <tbody>\n",
       "    <tr>\n",
       "      <th>1</th>\n",
       "      <td>1</td>\n",
       "      <td>107400445</td>\n",
       "      <td>AACNY</td>\n",
       "      <td>New York</td>\n",
       "      <td>Not so \"peaceful\" in the Bronx last night.</td>\n",
       "      <td>1</td>\n",
       "      <td>0</td>\n",
       "      <td>[]</td>\n",
       "      <td>False</td>\n",
       "      <td>0</td>\n",
       "      <td>False</td>\n",
       "    </tr>\n",
       "    <tr>\n",
       "      <th>2</th>\n",
       "      <td>2</td>\n",
       "      <td>107400536</td>\n",
       "      <td>karen</td>\n",
       "      <td>florida</td>\n",
       "      <td>I was awaiting a huge bolt of lightening to explode over Trump while he was mishandling the Bible.</td>\n",
       "      <td>2</td>\n",
       "      <td>0</td>\n",
       "      <td>[]</td>\n",
       "      <td>False</td>\n",
       "      <td>0</td>\n",
       "      <td>False</td>\n",
       "    </tr>\n",
       "  </tbody>\n",
       "</table>\n",
       "</div>"
      ],
      "text/plain": [
       "   index  commentID userDisplayName userLocation  \\\n",
       "1      1  107400445           AACNY     New York   \n",
       "2      2  107400536           karen      florida   \n",
       "\n",
       "                                                                                          commentBody  \\\n",
       "1                                                          Not so \"peaceful\" in the Bronx last night.   \n",
       "2  I was awaiting a huge bolt of lightening to explode over Trump while he was mishandling the Bible.   \n",
       "\n",
       "   recommendations  replyCount replies  editorsSelection  recommendedFlag  \\\n",
       "1                1           0      []             False                0   \n",
       "2                2           0      []             False                0   \n",
       "\n",
       "   isAnonymous  \n",
       "1        False  \n",
       "2        False  "
      ]
     },
     "execution_count": 2,
     "metadata": {},
     "output_type": "execute_result"
    }
   ],
   "source": [
    "df = pd.read_csv('nyt_comments.csv', index_col = 0)\n",
    "df[1:3]"
   ]
  },
  {
   "cell_type": "markdown",
   "metadata": {},
   "source": [
    "Since we're only doing topic modeling, we only just need the text column. In this case it's the commentBody."
   ]
  },
  {
   "cell_type": "code",
   "execution_count": 61,
   "metadata": {},
   "outputs": [],
   "source": [
    "stop_words = stopwords.words('english')\n",
    "def tokenizer(text):\n",
    "    \n",
    "    #All characters in this string will be converted to lowercase\n",
    "    text = text.lower()\n",
    "    \n",
    "    #Removing sentence punctuations\n",
    "    for punctuation_mark in string.punctuation:\n",
    "        text = text.replace(punctuation_mark,'')\n",
    "    \n",
    "    #Creating our list of tokens\n",
    "    list_of_tokens = text.split(' ')\n",
    "    #Creating our cleaned tokens list \n",
    "    cleaned_tokens = []\n",
    "    #Let us use a stemmer\n",
    "    stemmer = SnowballStemmer(language = 'english')\n",
    "    \n",
    "    #Removing Stop Words in our list of tokens and any tokens that happens to be empty strings\n",
    "    for token in list_of_tokens:\n",
    "        if (not token in stop_words) and (token != ''):\n",
    "            #Stem tokens\n",
    "            token_stemmed = stemmer.stem(token)\n",
    "            #appending our finalized cleaned token\n",
    "            cleaned_tokens.append(token_stemmed)\n",
    "    \n",
    "    return cleaned_tokens"
   ]
  },
  {
   "cell_type": "code",
   "execution_count": 75,
   "metadata": {},
   "outputs": [],
   "source": [
    "#Instatiate TFIDF model\n",
    "tfidf = TfidfVectorizer(tokenizer = tokenizer, \n",
    "                           min_df = 0.05, \n",
    "                           ngram_range = (1,3))"
   ]
  },
  {
   "cell_type": "code",
   "execution_count": 76,
   "metadata": {},
   "outputs": [],
   "source": [
    "token_matrix = tfidf.fit_transform(df.commentBody)"
   ]
  },
  {
   "cell_type": "code",
   "execution_count": 77,
   "metadata": {},
   "outputs": [
    {
     "data": {
      "text/plain": [
       "<1336x91 sparse matrix of type '<class 'numpy.float64'>'\n",
       "\twith 11020 stored elements in Compressed Sparse Row format>"
      ]
     },
     "execution_count": 77,
     "metadata": {},
     "output_type": "execute_result"
    }
   ],
   "source": [
    "token_matrix"
   ]
  },
  {
   "cell_type": "code",
   "execution_count": 78,
   "metadata": {},
   "outputs": [],
   "source": [
    "#If you would like to see the matrix in a dataframe form\n",
    "matrix_df = pd.DataFrame(token_matrix.toarray(),\n",
    "                        columns = tfidf.get_feature_names())"
   ]
  },
  {
   "cell_type": "code",
   "execution_count": 79,
   "metadata": {},
   "outputs": [
    {
     "data": {
      "text/html": [
       "<div>\n",
       "<style scoped>\n",
       "    .dataframe tbody tr th:only-of-type {\n",
       "        vertical-align: middle;\n",
       "    }\n",
       "\n",
       "    .dataframe tbody tr th {\n",
       "        vertical-align: top;\n",
       "    }\n",
       "\n",
       "    .dataframe thead th {\n",
       "        text-align: right;\n",
       "    }\n",
       "</style>\n",
       "<table border=\"1\" class=\"dataframe\">\n",
       "  <thead>\n",
       "    <tr style=\"text-align: right;\">\n",
       "      <th></th>\n",
       "      <th>action</th>\n",
       "      <th>america</th>\n",
       "      <th>american</th>\n",
       "      <th>back</th>\n",
       "      <th>barr</th>\n",
       "      <th>bibl</th>\n",
       "      <th>black</th>\n",
       "      <th>call</th>\n",
       "      <th>church</th>\n",
       "      <th>citi</th>\n",
       "      <th>...</th>\n",
       "      <th>us</th>\n",
       "      <th>use</th>\n",
       "      <th>violenc</th>\n",
       "      <th>vote</th>\n",
       "      <th>want</th>\n",
       "      <th>way</th>\n",
       "      <th>white</th>\n",
       "      <th>white hous</th>\n",
       "      <th>would</th>\n",
       "      <th>year</th>\n",
       "    </tr>\n",
       "  </thead>\n",
       "  <tbody>\n",
       "    <tr>\n",
       "      <th>0</th>\n",
       "      <td>0.0</td>\n",
       "      <td>0.0</td>\n",
       "      <td>0.0</td>\n",
       "      <td>0.000000</td>\n",
       "      <td>0.000000</td>\n",
       "      <td>0.000000</td>\n",
       "      <td>0.0</td>\n",
       "      <td>0.0</td>\n",
       "      <td>0.000000</td>\n",
       "      <td>0.0</td>\n",
       "      <td>...</td>\n",
       "      <td>0.230176</td>\n",
       "      <td>0.0</td>\n",
       "      <td>0.0</td>\n",
       "      <td>0.0</td>\n",
       "      <td>0.0</td>\n",
       "      <td>0.0</td>\n",
       "      <td>0.000000</td>\n",
       "      <td>0.000000</td>\n",
       "      <td>0.0</td>\n",
       "      <td>0.0</td>\n",
       "    </tr>\n",
       "    <tr>\n",
       "      <th>1</th>\n",
       "      <td>0.0</td>\n",
       "      <td>0.0</td>\n",
       "      <td>0.0</td>\n",
       "      <td>0.000000</td>\n",
       "      <td>0.000000</td>\n",
       "      <td>0.000000</td>\n",
       "      <td>0.0</td>\n",
       "      <td>0.0</td>\n",
       "      <td>0.000000</td>\n",
       "      <td>0.0</td>\n",
       "      <td>...</td>\n",
       "      <td>0.000000</td>\n",
       "      <td>0.0</td>\n",
       "      <td>0.0</td>\n",
       "      <td>0.0</td>\n",
       "      <td>0.0</td>\n",
       "      <td>0.0</td>\n",
       "      <td>0.000000</td>\n",
       "      <td>0.000000</td>\n",
       "      <td>0.0</td>\n",
       "      <td>0.0</td>\n",
       "    </tr>\n",
       "    <tr>\n",
       "      <th>2</th>\n",
       "      <td>0.0</td>\n",
       "      <td>0.0</td>\n",
       "      <td>0.0</td>\n",
       "      <td>0.000000</td>\n",
       "      <td>0.000000</td>\n",
       "      <td>0.857992</td>\n",
       "      <td>0.0</td>\n",
       "      <td>0.0</td>\n",
       "      <td>0.000000</td>\n",
       "      <td>0.0</td>\n",
       "      <td>...</td>\n",
       "      <td>0.000000</td>\n",
       "      <td>0.0</td>\n",
       "      <td>0.0</td>\n",
       "      <td>0.0</td>\n",
       "      <td>0.0</td>\n",
       "      <td>0.0</td>\n",
       "      <td>0.000000</td>\n",
       "      <td>0.000000</td>\n",
       "      <td>0.0</td>\n",
       "      <td>0.0</td>\n",
       "    </tr>\n",
       "    <tr>\n",
       "      <th>3</th>\n",
       "      <td>0.0</td>\n",
       "      <td>0.0</td>\n",
       "      <td>0.0</td>\n",
       "      <td>0.000000</td>\n",
       "      <td>0.000000</td>\n",
       "      <td>0.588851</td>\n",
       "      <td>0.0</td>\n",
       "      <td>0.0</td>\n",
       "      <td>0.000000</td>\n",
       "      <td>0.0</td>\n",
       "      <td>...</td>\n",
       "      <td>0.000000</td>\n",
       "      <td>0.0</td>\n",
       "      <td>0.0</td>\n",
       "      <td>0.0</td>\n",
       "      <td>0.0</td>\n",
       "      <td>0.0</td>\n",
       "      <td>0.000000</td>\n",
       "      <td>0.000000</td>\n",
       "      <td>0.0</td>\n",
       "      <td>0.0</td>\n",
       "    </tr>\n",
       "    <tr>\n",
       "      <th>4</th>\n",
       "      <td>0.0</td>\n",
       "      <td>0.0</td>\n",
       "      <td>0.0</td>\n",
       "      <td>0.000000</td>\n",
       "      <td>0.000000</td>\n",
       "      <td>0.000000</td>\n",
       "      <td>0.0</td>\n",
       "      <td>0.0</td>\n",
       "      <td>0.000000</td>\n",
       "      <td>0.0</td>\n",
       "      <td>...</td>\n",
       "      <td>0.000000</td>\n",
       "      <td>0.0</td>\n",
       "      <td>0.0</td>\n",
       "      <td>0.0</td>\n",
       "      <td>0.0</td>\n",
       "      <td>0.0</td>\n",
       "      <td>0.000000</td>\n",
       "      <td>0.000000</td>\n",
       "      <td>0.0</td>\n",
       "      <td>0.0</td>\n",
       "    </tr>\n",
       "    <tr>\n",
       "      <th>...</th>\n",
       "      <td>...</td>\n",
       "      <td>...</td>\n",
       "      <td>...</td>\n",
       "      <td>...</td>\n",
       "      <td>...</td>\n",
       "      <td>...</td>\n",
       "      <td>...</td>\n",
       "      <td>...</td>\n",
       "      <td>...</td>\n",
       "      <td>...</td>\n",
       "      <td>...</td>\n",
       "      <td>...</td>\n",
       "      <td>...</td>\n",
       "      <td>...</td>\n",
       "      <td>...</td>\n",
       "      <td>...</td>\n",
       "      <td>...</td>\n",
       "      <td>...</td>\n",
       "      <td>...</td>\n",
       "      <td>...</td>\n",
       "      <td>...</td>\n",
       "    </tr>\n",
       "    <tr>\n",
       "      <th>1331</th>\n",
       "      <td>0.0</td>\n",
       "      <td>0.0</td>\n",
       "      <td>0.0</td>\n",
       "      <td>0.000000</td>\n",
       "      <td>0.000000</td>\n",
       "      <td>0.000000</td>\n",
       "      <td>0.0</td>\n",
       "      <td>0.0</td>\n",
       "      <td>0.000000</td>\n",
       "      <td>0.0</td>\n",
       "      <td>...</td>\n",
       "      <td>0.000000</td>\n",
       "      <td>0.0</td>\n",
       "      <td>0.0</td>\n",
       "      <td>0.0</td>\n",
       "      <td>0.0</td>\n",
       "      <td>0.0</td>\n",
       "      <td>0.000000</td>\n",
       "      <td>0.000000</td>\n",
       "      <td>0.0</td>\n",
       "      <td>0.0</td>\n",
       "    </tr>\n",
       "    <tr>\n",
       "      <th>1332</th>\n",
       "      <td>0.0</td>\n",
       "      <td>0.0</td>\n",
       "      <td>0.0</td>\n",
       "      <td>0.191946</td>\n",
       "      <td>0.302002</td>\n",
       "      <td>0.000000</td>\n",
       "      <td>0.0</td>\n",
       "      <td>0.0</td>\n",
       "      <td>0.156675</td>\n",
       "      <td>0.0</td>\n",
       "      <td>...</td>\n",
       "      <td>0.000000</td>\n",
       "      <td>0.0</td>\n",
       "      <td>0.0</td>\n",
       "      <td>0.0</td>\n",
       "      <td>0.0</td>\n",
       "      <td>0.0</td>\n",
       "      <td>0.326875</td>\n",
       "      <td>0.389152</td>\n",
       "      <td>0.0</td>\n",
       "      <td>0.0</td>\n",
       "    </tr>\n",
       "    <tr>\n",
       "      <th>1333</th>\n",
       "      <td>0.0</td>\n",
       "      <td>0.0</td>\n",
       "      <td>0.0</td>\n",
       "      <td>0.000000</td>\n",
       "      <td>0.000000</td>\n",
       "      <td>0.000000</td>\n",
       "      <td>0.0</td>\n",
       "      <td>0.0</td>\n",
       "      <td>0.000000</td>\n",
       "      <td>0.0</td>\n",
       "      <td>...</td>\n",
       "      <td>0.000000</td>\n",
       "      <td>0.0</td>\n",
       "      <td>0.0</td>\n",
       "      <td>0.0</td>\n",
       "      <td>0.0</td>\n",
       "      <td>0.0</td>\n",
       "      <td>0.000000</td>\n",
       "      <td>0.000000</td>\n",
       "      <td>0.0</td>\n",
       "      <td>0.0</td>\n",
       "    </tr>\n",
       "    <tr>\n",
       "      <th>1334</th>\n",
       "      <td>0.0</td>\n",
       "      <td>0.0</td>\n",
       "      <td>0.0</td>\n",
       "      <td>0.000000</td>\n",
       "      <td>0.000000</td>\n",
       "      <td>0.000000</td>\n",
       "      <td>0.0</td>\n",
       "      <td>0.0</td>\n",
       "      <td>0.000000</td>\n",
       "      <td>0.0</td>\n",
       "      <td>...</td>\n",
       "      <td>0.000000</td>\n",
       "      <td>0.0</td>\n",
       "      <td>0.0</td>\n",
       "      <td>0.0</td>\n",
       "      <td>0.0</td>\n",
       "      <td>0.0</td>\n",
       "      <td>0.000000</td>\n",
       "      <td>0.000000</td>\n",
       "      <td>0.0</td>\n",
       "      <td>0.0</td>\n",
       "    </tr>\n",
       "    <tr>\n",
       "      <th>1335</th>\n",
       "      <td>0.0</td>\n",
       "      <td>0.0</td>\n",
       "      <td>0.0</td>\n",
       "      <td>0.000000</td>\n",
       "      <td>0.000000</td>\n",
       "      <td>0.000000</td>\n",
       "      <td>0.0</td>\n",
       "      <td>0.0</td>\n",
       "      <td>0.000000</td>\n",
       "      <td>0.0</td>\n",
       "      <td>...</td>\n",
       "      <td>0.000000</td>\n",
       "      <td>0.0</td>\n",
       "      <td>0.0</td>\n",
       "      <td>0.0</td>\n",
       "      <td>0.0</td>\n",
       "      <td>0.0</td>\n",
       "      <td>0.000000</td>\n",
       "      <td>0.000000</td>\n",
       "      <td>0.0</td>\n",
       "      <td>0.0</td>\n",
       "    </tr>\n",
       "  </tbody>\n",
       "</table>\n",
       "<p>1336 rows × 91 columns</p>\n",
       "</div>"
      ],
      "text/plain": [
       "      action  america  american      back      barr      bibl  black  call  \\\n",
       "0        0.0      0.0       0.0  0.000000  0.000000  0.000000    0.0   0.0   \n",
       "1        0.0      0.0       0.0  0.000000  0.000000  0.000000    0.0   0.0   \n",
       "2        0.0      0.0       0.0  0.000000  0.000000  0.857992    0.0   0.0   \n",
       "3        0.0      0.0       0.0  0.000000  0.000000  0.588851    0.0   0.0   \n",
       "4        0.0      0.0       0.0  0.000000  0.000000  0.000000    0.0   0.0   \n",
       "...      ...      ...       ...       ...       ...       ...    ...   ...   \n",
       "1331     0.0      0.0       0.0  0.000000  0.000000  0.000000    0.0   0.0   \n",
       "1332     0.0      0.0       0.0  0.191946  0.302002  0.000000    0.0   0.0   \n",
       "1333     0.0      0.0       0.0  0.000000  0.000000  0.000000    0.0   0.0   \n",
       "1334     0.0      0.0       0.0  0.000000  0.000000  0.000000    0.0   0.0   \n",
       "1335     0.0      0.0       0.0  0.000000  0.000000  0.000000    0.0   0.0   \n",
       "\n",
       "        church  citi  ...        us  use  violenc  vote  want  way     white  \\\n",
       "0     0.000000   0.0  ...  0.230176  0.0      0.0   0.0   0.0  0.0  0.000000   \n",
       "1     0.000000   0.0  ...  0.000000  0.0      0.0   0.0   0.0  0.0  0.000000   \n",
       "2     0.000000   0.0  ...  0.000000  0.0      0.0   0.0   0.0  0.0  0.000000   \n",
       "3     0.000000   0.0  ...  0.000000  0.0      0.0   0.0   0.0  0.0  0.000000   \n",
       "4     0.000000   0.0  ...  0.000000  0.0      0.0   0.0   0.0  0.0  0.000000   \n",
       "...        ...   ...  ...       ...  ...      ...   ...   ...  ...       ...   \n",
       "1331  0.000000   0.0  ...  0.000000  0.0      0.0   0.0   0.0  0.0  0.000000   \n",
       "1332  0.156675   0.0  ...  0.000000  0.0      0.0   0.0   0.0  0.0  0.326875   \n",
       "1333  0.000000   0.0  ...  0.000000  0.0      0.0   0.0   0.0  0.0  0.000000   \n",
       "1334  0.000000   0.0  ...  0.000000  0.0      0.0   0.0   0.0  0.0  0.000000   \n",
       "1335  0.000000   0.0  ...  0.000000  0.0      0.0   0.0   0.0  0.0  0.000000   \n",
       "\n",
       "      white hous  would  year  \n",
       "0       0.000000    0.0   0.0  \n",
       "1       0.000000    0.0   0.0  \n",
       "2       0.000000    0.0   0.0  \n",
       "3       0.000000    0.0   0.0  \n",
       "4       0.000000    0.0   0.0  \n",
       "...          ...    ...   ...  \n",
       "1331    0.000000    0.0   0.0  \n",
       "1332    0.389152    0.0   0.0  \n",
       "1333    0.000000    0.0   0.0  \n",
       "1334    0.000000    0.0   0.0  \n",
       "1335    0.000000    0.0   0.0  \n",
       "\n",
       "[1336 rows x 91 columns]"
      ]
     },
     "execution_count": 79,
     "metadata": {},
     "output_type": "execute_result"
    }
   ],
   "source": [
    "matrix_df"
   ]
  },
  {
   "cell_type": "code",
   "execution_count": 101,
   "metadata": {},
   "outputs": [
    {
     "name": "stdout",
     "output_type": "stream",
     "text": [
      "CPU times: user 104 ms, sys: 7.32 ms, total: 111 ms\n",
      "Wall time: 59.9 ms\n"
     ]
    },
    {
     "data": {
      "text/plain": [
       "NMF(alpha=0.0, beta_loss='frobenius', init=None, l1_ratio=0.0, max_iter=200,\n",
       "    n_components=5, random_state=None, shuffle=False, solver='cd', tol=0.0001,\n",
       "    verbose=0)"
      ]
     },
     "execution_count": 101,
     "metadata": {},
     "output_type": "execute_result"
    }
   ],
   "source": [
    "%%time\n",
    "\n",
    "num_topics = 5\n",
    "#NMF Topic Modeling\n",
    "NMF_model = NMF(n_components = num_topics)\n",
    "NMF_model.fit(token_matrix)"
   ]
  },
  {
   "cell_type": "code",
   "execution_count": 103,
   "metadata": {},
   "outputs": [
    {
     "name": "stdout",
     "output_type": "stream",
     "text": [
      "Topic 0: polic, peopl, us, need, get, american, time, offic, go, like, would, countri, presid, mani, militari, one, right, nation, think, black\n",
      "Topic 1: bibl, church, photo, photo op, op, presid, front, hold, tear, use, gas, would, tear gas, clear, could, show, last, go, white, order\n",
      "Topic 2: barr, order, law, right, clear, know, action, state, like, offic, govern, take, tear gas, gas, time, first, citizen, tear, dont, presid\n",
      "Topic 3: protest, peac, peac protest, right, gas, tear, loot, use, tear gas, violenc, clear, one, street, white, order, riot, hous, could, citizen, forc\n",
      "Topic 4: trump, america, militari, support, like, call, american, white, want, year, countri, could, come, vote, hous, white hous, make, republican, thing, never\n"
     ]
    }
   ],
   "source": [
    "#I'm looking for the top 25 words for each topic\n",
    "top_n_words = 20\n",
    "token_names = tfidf.get_feature_names()\n",
    "\n",
    "for topic_num, topic in enumerate(NMF_model.components_):\n",
    "    top_tokens = [token_names[i] for i in topic.argsort()][::-1][:top_n_words] #Returns the indices that would sort an array\n",
    "    top_n = ', '.join(top_tokens) \n",
    "    print(f'Topic {topic_num}: {top_n}')"
   ]
  },
  {
   "cell_type": "code",
   "execution_count": 107,
   "metadata": {},
   "outputs": [
    {
     "name": "stdout",
     "output_type": "stream",
     "text": [
      "Topic 0: polic peopl us need get american time offic go like would countri presid mani militari one right nation think black see know want way state\n",
      "Topic 1: bibl church photo photo op op presid front hold tear use gas would tear gas clear could show last go white order even white hous hous man never\n",
      "Topic 2: barr order law right clear know action state like offic govern take tear gas gas time first citizen tear dont presid peac us one use get\n",
      "Topic 3: protest peac peac protest right gas tear loot use tear gas violenc clear one street white order riot hous could citizen forc white hous leader make law take\n",
      "Topic 4: trump america militari support like call american white want year countri could come vote hous white hous make republican thing never take power us man first\n"
     ]
    }
   ],
   "source": [
    "n_words = 25\n",
    "token_names = tfidf.get_feature_names()\n",
    "topic_list = []\n",
    "for topic_num, topic in enumerate(NMF_model.components_):\n",
    "    top_tokens = [token_names[i] for i in topic.argsort()][::-1][:n_words]\n",
    "    top_n = ' '.join(top_tokens)\n",
    "    topic_list.append(f\"topic_{'_'.join(top_tokens[:3])}\") \n",
    "    \n",
    "    print(f'Topic {topic_num}: {top_n}')"
   ]
  },
  {
   "cell_type": "code",
   "execution_count": null,
   "metadata": {},
   "outputs": [],
   "source": [
    "terms, sizes = getTermsAndSizes(topics_display_list[0])\n",
    "\n",
    "num_top_words = 30\n",
    "fontsize_base = 30 / np.max(sizes) # font size for word with largest share in corpus\n",
    "\n",
    "num_topics = 1\n",
    "\n",
    "for t in range(num_topics):\n",
    "    fig, ax = plt.subplots(1, num_topics, figsize=(6, 12))\n",
    "    plt.ylim(0, num_top_words + 1.0)\n",
    "    plt.xticks([])\n",
    "    plt.yticks([])\n",
    "    plt.title('Topic #{}'.format(t))\n",
    "\n",
    "    for i, (word, share) in enumerate(zip(terms, sizes)):\n",
    "        word = word + \" (\" + str(share) + \")\"\n",
    "        plt.text(0.3, num_top_words-i-1.0, word, fontsize=fontsize_base*share)\n",
    "\n",
    "plt.tight_layout()\n"
   ]
  },
  {
   "cell_type": "code",
   "execution_count": 69,
   "metadata": {},
   "outputs": [
    {
     "name": "stdout",
     "output_type": "stream",
     "text": [
      "['topic_across_act_action', 'topic_riot_job_anyth', 'topic_reason_burn_dc', 'topic_becom_rememb_looter', 'topic_never_march_matter', 'topic_better_media_caus', 'topic_law_looter_rioter', 'topic_militari_long_month', 'topic_legal_dc_death', 'topic_everyon_protect_set', 'topic_societi_hold_probabl', 'topic_fail_fear_govern', 'topic_must_polit_right', 'topic_may_hold bibl_feder', 'topic_look_race_probabl']\n"
     ]
    }
   ],
   "source": [
    "print(topic_list)"
   ]
  },
  {
   "cell_type": "markdown",
   "metadata": {},
   "source": [
    "# Using LDA Topic Modeling"
   ]
  },
  {
   "cell_type": "code",
   "execution_count": 87,
   "metadata": {},
   "outputs": [
    {
     "name": "stdout",
     "output_type": "stream",
     "text": [
      "CPU times: user 317 ms, sys: 168 ms, total: 486 ms\n",
      "Wall time: 13.8 s\n"
     ]
    },
    {
     "data": {
      "text/plain": [
       "LatentDirichletAllocation(batch_size=128, doc_topic_prior=None,\n",
       "                          evaluate_every=-1, learning_decay=0.7,\n",
       "                          learning_method='batch', learning_offset=10.0,\n",
       "                          max_doc_update_iter=100, max_iter=10,\n",
       "                          mean_change_tol=0.001, n_components=10, n_jobs=-1,\n",
       "                          perp_tol=0.1, random_state=None,\n",
       "                          topic_word_prior=None, total_samples=1000000.0,\n",
       "                          verbose=0)"
      ]
     },
     "execution_count": 87,
     "metadata": {},
     "output_type": "execute_result"
    }
   ],
   "source": [
    "%%time\n",
    "#I want 15 topics generated\n",
    "num_topics = 10\n",
    "\n",
    "#instatiate LDA model\n",
    "lda_model = LDA(n_components = num_topics, n_jobs = -1)\n",
    "lda_model.fit(token_matrix)"
   ]
  },
  {
   "cell_type": "code",
   "execution_count": 88,
   "metadata": {},
   "outputs": [
    {
     "name": "stdout",
     "output_type": "stream",
     "text": [
      "Topic 0: us, first, govern, year, peopl, trump, time, need, get, right, polic, black, offic, way, america, presid, vote, even, think, want, nation, countri, american, one, make\n",
      "Topic 1: barr, trump, vote, republican, get, know, go, dont, must, like, order, action, elect, offic, way, one, take, make, peopl, come, mani, right, time, countri, us\n",
      "Topic 2: protest, peac, peac protest, one, support, peopl, trump, show, last, right, need, good, violenc, take, make, countri, hold, look, clear, would, us, way, time, like, go\n",
      "Topic 3: america, gas, tear, tear gas, come, trump, use, make, polic, never, presid, action, forc, peac, thing, protest, call, could, even, us, clear, law, would, countri, back\n",
      "Topic 4: white, hous, man, white hous, trump, say, day, think, see, mani, peopl, black, offic, time, polic, one, power, want, go, make, presid, know, use, happen, would\n",
      "Topic 5: would, leader, need, presid, like, trump, citi, countri, nation, call, time, much, bibl, peopl, polic, see, american, go, forc, good, church, protest, one, support, citizen\n",
      "Topic 6: polic, protest, loot, floyd, georg, georg floyd, stop, riot, live, peopl, offic, violenc, right, happen, dont, get, look, peac, like, citi, day, need, citizen, american, good\n",
      "Topic 7: state, law, order, unit, power, barr, want, presid, trump, back, get, elect, offic, think, american, militari, call, take, say, america, nation, us, forc, peopl, day\n",
      "Topic 8: militari, trump, use, american, order, citizen, forc, us, right, peopl, protest, barr, peac, presid, street, govern, support, first, would, violenc, need, go, like, nation, live\n",
      "Topic 9: bibl, photo, church, op, photo op, trump, front, hold, could, clear, presid, peac, tear, gas, peac protest, protest, go, tear gas, use, even, never, thing, get, way, last\n"
     ]
    }
   ],
   "source": [
    "#I'm looking for the top 15 words for each topic\n",
    "top_n_words = 25\n",
    "token_names = tfidf.get_feature_names()\n",
    "\n",
    "for topic_num, topic in enumerate(lda_model.components_):\n",
    "    top_tokens = [token_names[i] for i in topic.argsort()][::-1][:top_n_words] #Returns the indices that would sort an array\n",
    "    top_n = ', '.join(top_tokens) \n",
    "    print(f'Topic {topic_num}: {top_n}')"
   ]
  },
  {
   "cell_type": "code",
   "execution_count": 72,
   "metadata": {},
   "outputs": [
    {
     "name": "stdout",
     "output_type": "stream",
     "text": [
      "\u001b[1mHello\n"
     ]
    }
   ],
   "source": [
    "print('\\033[1m' + 'Hello')"
   ]
  },
  {
   "cell_type": "code",
   "execution_count": 105,
   "metadata": {},
   "outputs": [
    {
     "name": "stdout",
     "output_type": "stream",
     "text": [
      "CPU times: user 763 ms, sys: 272 ms, total: 1.04 s\n",
      "Wall time: 20 s\n"
     ]
    },
    {
     "data": {
      "text/html": [
       "\n",
       "<link rel=\"stylesheet\" type=\"text/css\" href=\"https://cdn.rawgit.com/bmabey/pyLDAvis/files/ldavis.v1.0.0.css\">\n",
       "\n",
       "\n",
       "<div id=\"ldavis_el975581402035574199841717014639\"></div>\n",
       "<script type=\"text/javascript\">\n",
       "\n",
       "var ldavis_el975581402035574199841717014639_data = {\"mdsDat\": {\"x\": [-0.02041780594355789, 0.0077386468726062954, -0.17111002450503643, -0.04814101895216488, 0.11301409203592369, 0.04269419742182964, -0.14572728148108902, 0.07465896576154338, -0.09959168100073486, 0.24688190979068023], \"y\": [-0.11269148497581374, -0.04376802936793621, 0.14680735260938385, -0.05076423918862752, -0.02048653103782919, 0.018522709302668458, -0.07847802746361177, -0.1336952533579689, 0.13564820042079154, 0.1389053030589433], \"topics\": [1, 2, 3, 4, 5, 6, 7, 8, 9, 10], \"cluster\": [1, 1, 1, 1, 1, 1, 1, 1, 1, 1], \"Freq\": [16.574231565326734, 14.584846208701007, 12.222577070493926, 10.09890291595192, 9.774900858800605, 8.808991912898275, 8.079862385083947, 6.953412307390326, 6.592433755716515, 6.309841019636737]}, \"tinfo\": {\"Term\": [\"barr\", \"militari\", \"state\", \"photo\", \"law\", \"peac\", \"order\", \"gas\", \"bibl\", \"protest\", \"america\", \"peac protest\", \"tear\", \"tear gas\", \"unit\", \"photo op\", \"op\", \"us\", \"first\", \"church\", \"govern\", \"white\", \"vote\", \"use\", \"would\", \"year\", \"come\", \"republican\", \"power\", \"leader\", \"georg floyd\", \"floyd\", \"georg\", \"loot\", \"stop\", \"riot\", \"polic\", \"live\", \"happen\", \"violenc\", \"dont\", \"citi\", \"look\", \"street\", \"good\", \"offic\", \"day\", \"citizen\", \"must\", \"mani\", \"protest\", \"action\", \"thing\", \"back\", \"black\", \"take\", \"right\", \"nation\", \"last\", \"much\", \"like\", \"peopl\", \"get\", \"american\", \"need\", \"peac\", \"one\", \"trump\", \"white hous\", \"hous\", \"white\", \"man\", \"say\", \"day\", \"think\", \"black\", \"mani\", \"see\", \"power\", \"happen\", \"never\", \"elect\", \"offic\", \"thing\", \"want\", \"make\", \"show\", \"know\", \"time\", \"one\", \"republican\", \"last\", \"go\", \"way\", \"year\", \"even\", \"stop\", \"support\", \"peopl\", \"trump\", \"polic\", \"use\", \"would\", \"presid\", \"american\", \"protest\", \"photo\", \"photo op\", \"op\", \"bibl\", \"front\", \"church\", \"hold\", \"could\", \"clear\", \"tear\", \"gas\", \"tear gas\", \"never\", \"even\", \"thing\", \"peac protest\", \"show\", \"last\", \"trump\", \"presid\", \"peac\", \"go\", \"look\", \"way\", \"use\", \"live\", \"man\", \"get\", \"citizen\", \"want\", \"call\", \"protest\", \"one\", \"order\", \"barr\", \"leader\", \"citi\", \"would\", \"much\", \"nation\", \"call\", \"like\", \"need\", \"countri\", \"presid\", \"time\", \"good\", \"see\", \"forc\", \"bibl\", \"citizen\", \"front\", \"support\", \"hold\", \"go\", \"even\", \"live\", \"thing\", \"american\", \"church\", \"show\", \"want\", \"street\", \"trump\", \"say\", \"one\", \"peopl\", \"polic\", \"protest\", \"us\", \"america\", \"barr\", \"vote\", \"republican\", \"know\", \"dont\", \"get\", \"must\", \"action\", \"elect\", \"go\", \"way\", \"take\", \"come\", \"make\", \"mani\", \"like\", \"order\", \"offic\", \"trump\", \"one\", \"countri\", \"want\", \"time\", \"america\", \"right\", \"even\", \"never\", \"clear\", \"need\", \"us\", \"peopl\", \"call\", \"presid\", \"militari\", \"citizen\", \"use\", \"forc\", \"american\", \"order\", \"street\", \"right\", \"us\", \"trump\", \"govern\", \"first\", \"peopl\", \"support\", \"live\", \"violenc\", \"vote\", \"protest\", \"say\", \"peac\", \"barr\", \"could\", \"presid\", \"nation\", \"come\", \"peac protest\", \"go\", \"make\", \"law\", \"would\", \"need\", \"like\", \"peac protest\", \"peac\", \"protest\", \"support\", \"show\", \"last\", \"one\", \"good\", \"violenc\", \"hold\", \"look\", \"take\", \"clear\", \"make\", \"need\", \"right\", \"peopl\", \"way\", \"must\", \"countri\", \"would\", \"time\", \"like\", \"mani\", \"think\", \"go\", \"us\", \"trump\", \"action\", \"day\", \"church\", \"presid\", \"first\", \"govern\", \"year\", \"us\", \"black\", \"time\", \"peopl\", \"even\", \"vote\", \"way\", \"need\", \"get\", \"right\", \"street\", \"offic\", \"think\", \"riot\", \"want\", \"america\", \"nation\", \"polic\", \"loot\", \"trump\", \"make\", \"countri\", \"clear\", \"look\", \"last\", \"back\", \"see\", \"presid\", \"american\", \"one\", \"protest\", \"tear gas\", \"gas\", \"tear\", \"america\", \"come\", \"never\", \"action\", \"make\", \"thing\", \"forc\", \"could\", \"even\", \"use\", \"clear\", \"back\", \"call\", \"happen\", \"take\", \"violenc\", \"polic\", \"leader\", \"much\", \"law\", \"presid\", \"trump\", \"countri\", \"peac\", \"would\", \"know\", \"us\", \"protest\", \"unit\", \"state\", \"law\", \"order\", \"power\", \"back\", \"want\", \"elect\", \"think\", \"call\", \"presid\", \"offic\", \"barr\", \"get\", \"take\", \"say\", \"militari\", \"american\", \"nation\", \"forc\", \"america\", \"look\", \"day\", \"trump\", \"violenc\", \"us\", \"like\", \"right\", \"peopl\", \"see\", \"peac\"], \"Freq\": [76.0, 49.0, 39.0, 35.0, 41.0, 66.0, 50.0, 29.0, 50.0, 94.0, 46.0, 39.0, 30.0, 25.0, 24.0, 25.0, 25.0, 61.0, 28.0, 46.0, 27.0, 36.0, 29.0, 50.0, 51.0, 29.0, 31.0, 26.0, 32.0, 25.0, 16.690568437786432, 22.058145418025067, 20.758032952946518, 23.700437839858708, 15.668936757603175, 15.634180721978991, 39.3757535459671, 13.681702539704174, 10.031677512482872, 11.726930625319973, 9.86168984197972, 8.61721630793448, 9.40744892113854, 6.950279274780513, 8.251855956251633, 12.545344416592464, 8.475735876505023, 8.355023848385436, 6.946734759738905, 8.230677010196892, 24.10503597666811, 5.755150821955938, 5.8412671614340965, 5.471904475546183, 6.025634603351347, 6.736776911736121, 11.011247430765364, 7.9135786751113075, 5.572707115508539, 5.011556917958867, 8.847388699331992, 12.951364693136297, 9.519826291654416, 8.351316280854556, 8.426264165327545, 9.141274213588131, 7.7766842015355815, 7.975386543858821, 18.75587525422681, 21.098574066972184, 29.849113930344668, 19.47066072255849, 15.858538719361796, 13.835772734511693, 13.717112785389997, 11.28965030898561, 12.209934070577798, 12.377647294318303, 9.137611766353828, 6.64887606415953, 6.446698192812376, 6.153094489088222, 10.764980553133718, 5.97394125805661, 8.484010283485777, 7.524378600072095, 5.025439703120361, 7.15295312536998, 9.773587213936583, 9.454478089939556, 5.090666998319952, 4.575123518332718, 7.5620087961230755, 5.32511911901436, 4.674201439107501, 4.24910772059941, 3.6778195079727505, 5.055828458245158, 11.424362308089451, 17.194679463661004, 9.566472613157304, 6.924362931363958, 6.612797838053146, 7.2205538126866475, 6.291403043104409, 6.514534838782244, 34.1155070487645, 24.49593722654632, 24.49593722654632, 36.39057893201681, 16.11360886846499, 32.449467471378476, 15.02736539373759, 12.455474556939663, 11.907007288589492, 9.995730208593265, 7.737058031117419, 6.381341320902835, 4.995464036951643, 5.434821970089575, 4.787475985814104, 6.944791336698436, 4.083601828615413, 4.394468896273523, 23.03165878480693, 10.685227097257373, 10.301503374640339, 6.585846212154307, 3.9219314067600215, 4.463003781955346, 5.913999443283834, 3.109149741364488, 2.491186407073365, 4.726158920059286, 2.603504822481044, 3.120132416138574, 2.9548629695883486, 6.93407287460458, 3.3240192102641153, 3.3146024689766675, 3.4512765730473096, 18.559649181152786, 14.222523901284028, 26.320848198704756, 10.326963654082688, 13.63325839306886, 12.35193654214296, 15.303720997077658, 16.159065535824475, 14.108697518837293, 15.615545948873185, 10.47953860149387, 5.472427150828188, 6.292283028572554, 5.64663865518118, 7.265944784081624, 4.067378160309974, 2.9868471843709052, 4.295850898082915, 3.157972477902772, 5.680529541697715, 3.2288420939475895, 3.231836805022844, 2.8368962480668474, 5.75506750930733, 5.140690333450592, 2.634085457499978, 3.976583791281099, 2.116390769302734, 14.429750846681443, 3.027737325618684, 4.7482005762010555, 6.90839250066691, 6.441385449182941, 4.869641312239915, 3.5621392344926193, 3.297133681890141, 56.08591138015291, 20.20049946167209, 18.290340408878368, 16.958819177516563, 9.136837997295771, 17.544783001133936, 7.990214224251049, 7.31312313549585, 6.806144921604305, 10.502172284750694, 6.577845782607231, 6.1982931484723744, 5.606485537244767, 5.874530791959937, 5.437326732954469, 7.841792891696744, 7.714763177187511, 6.630946014288861, 20.366329210677886, 6.291361149871344, 5.3714451018569385, 4.053522501633267, 5.37563799034823, 5.060476923487477, 5.3880222590961955, 2.705080833830531, 2.3853254682829323, 2.870677213242587, 4.9132454308184625, 5.244168808564444, 5.857711202123634, 2.943574581540956, 3.516448499299151, 33.90788568637165, 12.77476563497749, 20.735877984296337, 11.605295485780776, 18.4430526884534, 15.161296387760956, 4.431117948723083, 10.856104179501026, 11.478103817018598, 23.355681068957814, 4.020050887315616, 4.00852052782343, 9.768771228246239, 4.019692305648414, 3.1779865202269124, 3.550643475886253, 2.7395457917172754, 8.84886519622299, 2.7596785989916666, 5.988618214328479, 6.756601773048884, 2.2848679469335247, 5.813363624486342, 3.232071888648845, 2.6071088984862105, 3.048288601474118, 3.50965394624288, 2.5848625536243452, 3.1510514443267326, 3.7521970234661044, 3.526795702754903, 3.3066189689268226, 24.662410567823926, 32.62673970255613, 34.905379150819904, 11.583831702351189, 8.352807348336873, 8.170669274439215, 11.690681338266431, 6.580361830070368, 6.201208602372758, 4.956486711581013, 4.903239255305016, 5.544505140959166, 4.5172542289018205, 5.1228413420384, 7.165994874732102, 7.181558106653661, 9.94799897986103, 3.989535992263489, 2.910186331036338, 5.048591404124692, 4.465539806640977, 3.976752971075404, 3.6685603000246623, 2.378579192460111, 2.4255293638286837, 3.3092942450732146, 4.277909907878896, 9.575174241201701, 1.5565663618012588, 1.8969553932932466, 2.4364577908569585, 3.0527921662788553, 17.792733304622764, 16.57577095412484, 14.576503778426288, 22.595086724171104, 6.200221942954519, 10.218177776576155, 13.60911316099359, 3.986930433344321, 4.215283674086635, 4.734929743967429, 7.1813261556026085, 7.117893878798172, 6.910183212238205, 2.505223239623969, 5.257593188800516, 3.8178625921909135, 2.612098901125201, 3.7690004191293536, 4.558674195298507, 3.6172590931919766, 6.788173547239182, 2.534258454418289, 11.462955268716723, 2.7006076867681927, 3.444229664738843, 2.2084326660255087, 1.970235369390533, 1.9016703349950272, 1.6217393144610313, 2.251415464772174, 4.474420871586835, 3.0274420061275102, 2.878524791484381, 2.388161861261045, 17.933731052105674, 20.588173663477345, 18.129441945260442, 23.31674645610326, 13.866043326181764, 5.320870891652194, 4.654699018128883, 6.560028173681726, 3.986515843635184, 4.535991797291962, 3.6141796178488317, 3.604344358961148, 6.638717883508604, 3.4433070053519788, 2.715817177683738, 3.6475640732778865, 2.1066949057574385, 2.7084874661731084, 2.6099567001420207, 6.285225019900348, 2.1247077578637663, 2.1523504302049434, 3.2091885450946473, 5.1496535457153145, 10.05339579436997, 3.1086675979735405, 4.353011941390012, 3.1362099711154223, 2.1137764573413613, 3.5143965231145113, 3.790265331734194, 18.378858406862992, 26.393914256669824, 26.09137258609625, 20.938723610414627, 12.093997631589351, 6.363193763317976, 8.60677604315894, 5.775290035931684, 4.6225716758238224, 4.495969625295693, 8.566662238591716, 4.981968743660976, 8.615409270647723, 5.943492662815605, 3.46005998719196, 2.967073829360847, 4.535146032787898, 4.545099752652095, 2.6924898516063163, 2.04800957497985, 2.9386939133564844, 1.4292403158420401, 1.5273858299919654, 7.269695254471919, 1.3376278054974355, 2.5413266246731085, 1.1241273109285035, 1.162260770016229, 1.6492566275901661, 0.5943020349491781, 0.7888379042506142], \"Total\": [76.0, 49.0, 39.0, 35.0, 41.0, 66.0, 50.0, 29.0, 50.0, 94.0, 46.0, 39.0, 30.0, 25.0, 24.0, 25.0, 25.0, 61.0, 28.0, 46.0, 27.0, 36.0, 29.0, 50.0, 51.0, 29.0, 31.0, 26.0, 32.0, 25.0, 17.61342190031742, 23.43115296400648, 22.398044536862436, 31.37889250542957, 23.264474954306664, 24.599472454836636, 75.01111443399816, 27.00659071103498, 23.66990084585381, 30.822494354636586, 26.546770523134516, 23.69071262247864, 27.459209123470277, 20.355097825047775, 27.702656788769062, 43.201788012007825, 29.806495775957988, 30.111005238184795, 25.047105749677076, 31.79874464592937, 94.97376381114418, 23.603475542026498, 24.276100842281096, 23.369189976985954, 26.99422268433876, 31.522562218908686, 52.2581924617175, 38.09909893682218, 26.94461018097656, 26.17063605997456, 48.305991532125276, 75.44013702929284, 52.637023155394374, 50.43039450721412, 51.92933097193094, 66.72350081757999, 48.34894213814039, 144.7147064774042, 20.41599740252887, 23.461223617934824, 36.07174135553851, 27.144381989778175, 30.62535008559308, 29.806495775957988, 32.48187620193511, 26.99422268433876, 31.79874464592937, 32.484270677994, 32.28556519435093, 23.66990084585381, 23.832863832643227, 24.52253311760225, 43.201788012007825, 24.276100842281096, 36.21488996812774, 34.10624791946672, 23.87795505767679, 35.3751450924993, 48.45688819947827, 48.34894213814039, 26.86274034687602, 26.94461018097656, 45.83288603023945, 33.290787470834545, 29.293870667687266, 26.774522597391115, 23.264474954306664, 32.092900675173006, 75.44013702929284, 144.7147064774042, 75.01111443399816, 50.47105927711242, 51.238176246311454, 68.17234527807678, 50.43039450721412, 94.97376381114418, 35.03848926861799, 25.418791737071405, 25.418791737071405, 50.127846645390676, 22.24986492104846, 46.45371794032399, 25.41216989845996, 26.08783331952381, 29.47378578250543, 30.327965583124474, 29.740451295440657, 25.3581632012416, 23.832863832643227, 26.774522597391115, 24.276100842281096, 39.23766790933204, 23.87795505767679, 26.94461018097656, 144.7147064774042, 68.17234527807678, 66.72350081757999, 45.83288603023945, 27.459209123470277, 33.290787470834545, 50.47105927711242, 27.00659071103498, 27.144381989778175, 52.637023155394374, 30.111005238184795, 36.21488996812774, 34.863482569421535, 94.97376381114418, 48.34894213814039, 50.00366358651819, 76.01299936771552, 25.79835273563797, 23.69071262247864, 51.238176246311454, 26.17063605997456, 38.09909893682218, 34.863482569421535, 48.305991532125276, 51.92933097193094, 45.53751761791245, 68.17234527807678, 48.45688819947827, 27.702656788769062, 32.484270677994, 29.294652122541603, 50.127846645390676, 30.111005238184795, 22.24986492104846, 32.092900675173006, 25.41216989845996, 45.83288603023945, 26.774522597391115, 27.00659071103498, 24.276100842281096, 50.43039450721412, 46.45371794032399, 23.87795505767679, 36.21488996812774, 20.355097825047775, 144.7147064774042, 30.62535008559308, 48.34894213814039, 75.44013702929284, 75.01111443399816, 94.97376381114418, 61.255898629177324, 46.75841462883503, 76.01299936771552, 29.0342108702251, 26.86274034687602, 35.3751450924993, 26.546770523134516, 52.637023155394374, 25.047105749677076, 23.603475542026498, 24.52253311760225, 45.83288603023945, 33.290787470834545, 31.522562218908686, 31.832343785481893, 34.10624791946672, 31.79874464592937, 48.305991532125276, 50.00366358651819, 43.201788012007825, 144.7147064774042, 48.34894213814039, 45.53751761791245, 36.21488996812774, 48.45688819947827, 46.75841462883503, 52.2581924617175, 26.774522597391115, 23.832863832643227, 29.47378578250543, 51.92933097193094, 61.255898629177324, 75.44013702929284, 34.863482569421535, 68.17234527807678, 49.76399156345468, 30.111005238184795, 50.47105927711242, 29.294652122541603, 50.43039450721412, 50.00366358651819, 20.355097825047775, 52.2581924617175, 61.255898629177324, 144.7147064774042, 27.369269203835213, 28.48204944914671, 75.44013702929284, 32.092900675173006, 27.00659071103498, 30.822494354636586, 29.0342108702251, 94.97376381114418, 30.62535008559308, 66.72350081757999, 76.01299936771552, 26.08783331952381, 68.17234527807678, 38.09909893682218, 31.832343785481893, 39.23766790933204, 45.83288603023945, 34.10624791946672, 41.881927724260684, 51.238176246311454, 51.92933097193094, 48.305991532125276, 39.23766790933204, 66.72350081757999, 94.97376381114418, 32.092900675173006, 23.87795505767679, 26.94461018097656, 48.34894213814039, 27.702656788769062, 30.822494354636586, 25.41216989845996, 27.459209123470277, 31.522562218908686, 29.47378578250543, 34.10624791946672, 51.92933097193094, 52.2581924617175, 75.44013702929284, 33.290787470834545, 25.047105749677076, 45.53751761791245, 51.238176246311454, 48.45688819947827, 48.305991532125276, 31.79874464592937, 32.48187620193511, 45.83288603023945, 61.255898629177324, 144.7147064774042, 23.603475542026498, 29.806495775957988, 46.45371794032399, 68.17234527807678, 28.48204944914671, 27.369269203835213, 29.293870667687266, 61.255898629177324, 26.99422268433876, 48.45688819947827, 75.44013702929284, 26.774522597391115, 29.0342108702251, 33.290787470834545, 51.92933097193094, 52.637023155394374, 52.2581924617175, 20.355097825047775, 43.201788012007825, 32.48187620193511, 24.599472454836636, 36.21488996812774, 46.75841462883503, 38.09909893682218, 75.01111443399816, 31.37889250542957, 144.7147064774042, 34.10624791946672, 45.53751761791245, 29.47378578250543, 27.459209123470277, 26.94461018097656, 23.369189976985954, 32.484270677994, 68.17234527807678, 50.43039450721412, 48.34894213814039, 94.97376381114418, 25.3581632012416, 29.740451295440657, 30.327965583124474, 46.75841462883503, 31.832343785481893, 23.832863832643227, 23.603475542026498, 34.10624791946672, 24.276100842281096, 29.294652122541603, 26.08783331952381, 26.774522597391115, 50.47105927711242, 29.47378578250543, 23.369189976985954, 34.863482569421535, 23.66990084585381, 31.522562218908686, 30.822494354636586, 75.01111443399816, 25.79835273563797, 26.17063605997456, 41.881927724260684, 68.17234527807678, 144.7147064774042, 45.53751761791245, 66.72350081757999, 51.238176246311454, 35.3751450924993, 61.255898629177324, 94.97376381114418, 24.254139312631594, 39.00672217665008, 41.881927724260684, 50.00366358651819, 32.28556519435093, 23.369189976985954, 36.21488996812774, 24.52253311760225, 32.48187620193511, 34.863482569421535, 68.17234527807678, 43.201788012007825, 76.01299936771552, 52.637023155394374, 31.522562218908686, 30.62535008559308, 49.76399156345468, 50.43039450721412, 38.09909893682218, 29.294652122541603, 46.75841462883503, 27.459209123470277, 29.806495775957988, 144.7147064774042, 30.822494354636586, 61.255898629177324, 48.305991532125276, 52.2581924617175, 75.44013702929284, 32.484270677994, 66.72350081757999], \"Category\": [\"Default\", \"Default\", \"Default\", \"Default\", \"Default\", \"Default\", \"Default\", \"Default\", \"Default\", \"Default\", \"Default\", \"Default\", \"Default\", \"Default\", \"Default\", \"Default\", \"Default\", \"Default\", \"Default\", \"Default\", \"Default\", \"Default\", \"Default\", \"Default\", \"Default\", \"Default\", \"Default\", \"Default\", \"Default\", \"Default\", \"Topic1\", \"Topic1\", \"Topic1\", \"Topic1\", \"Topic1\", \"Topic1\", \"Topic1\", \"Topic1\", \"Topic1\", \"Topic1\", \"Topic1\", \"Topic1\", \"Topic1\", \"Topic1\", \"Topic1\", \"Topic1\", \"Topic1\", \"Topic1\", \"Topic1\", \"Topic1\", \"Topic1\", \"Topic1\", \"Topic1\", \"Topic1\", \"Topic1\", \"Topic1\", \"Topic1\", \"Topic1\", \"Topic1\", \"Topic1\", \"Topic1\", \"Topic1\", \"Topic1\", \"Topic1\", \"Topic1\", \"Topic1\", \"Topic1\", \"Topic1\", \"Topic2\", \"Topic2\", \"Topic2\", \"Topic2\", \"Topic2\", \"Topic2\", \"Topic2\", \"Topic2\", \"Topic2\", \"Topic2\", \"Topic2\", \"Topic2\", \"Topic2\", \"Topic2\", \"Topic2\", \"Topic2\", \"Topic2\", \"Topic2\", \"Topic2\", \"Topic2\", \"Topic2\", \"Topic2\", \"Topic2\", \"Topic2\", \"Topic2\", \"Topic2\", \"Topic2\", \"Topic2\", \"Topic2\", \"Topic2\", \"Topic2\", \"Topic2\", \"Topic2\", \"Topic2\", \"Topic2\", \"Topic2\", \"Topic2\", \"Topic2\", \"Topic3\", \"Topic3\", \"Topic3\", \"Topic3\", \"Topic3\", \"Topic3\", \"Topic3\", \"Topic3\", \"Topic3\", \"Topic3\", \"Topic3\", \"Topic3\", \"Topic3\", \"Topic3\", \"Topic3\", \"Topic3\", \"Topic3\", \"Topic3\", \"Topic3\", \"Topic3\", \"Topic3\", \"Topic3\", \"Topic3\", \"Topic3\", \"Topic3\", \"Topic3\", \"Topic3\", \"Topic3\", \"Topic3\", \"Topic3\", \"Topic3\", \"Topic3\", \"Topic3\", \"Topic3\", \"Topic3\", \"Topic4\", \"Topic4\", \"Topic4\", \"Topic4\", \"Topic4\", \"Topic4\", \"Topic4\", \"Topic4\", \"Topic4\", \"Topic4\", \"Topic4\", \"Topic4\", \"Topic4\", \"Topic4\", \"Topic4\", \"Topic4\", \"Topic4\", \"Topic4\", \"Topic4\", \"Topic4\", \"Topic4\", \"Topic4\", \"Topic4\", \"Topic4\", \"Topic4\", \"Topic4\", \"Topic4\", \"Topic4\", \"Topic4\", \"Topic4\", \"Topic4\", \"Topic4\", \"Topic4\", \"Topic4\", \"Topic4\", \"Topic4\", \"Topic5\", \"Topic5\", \"Topic5\", \"Topic5\", \"Topic5\", \"Topic5\", \"Topic5\", \"Topic5\", \"Topic5\", \"Topic5\", \"Topic5\", \"Topic5\", \"Topic5\", \"Topic5\", \"Topic5\", \"Topic5\", \"Topic5\", \"Topic5\", \"Topic5\", \"Topic5\", \"Topic5\", \"Topic5\", \"Topic5\", \"Topic5\", \"Topic5\", \"Topic5\", \"Topic5\", \"Topic5\", \"Topic5\", \"Topic5\", \"Topic5\", \"Topic5\", \"Topic5\", \"Topic6\", \"Topic6\", \"Topic6\", \"Topic6\", \"Topic6\", \"Topic6\", \"Topic6\", \"Topic6\", \"Topic6\", \"Topic6\", \"Topic6\", \"Topic6\", \"Topic6\", \"Topic6\", \"Topic6\", \"Topic6\", \"Topic6\", \"Topic6\", \"Topic6\", \"Topic6\", \"Topic6\", \"Topic6\", \"Topic6\", \"Topic6\", \"Topic6\", \"Topic6\", \"Topic6\", \"Topic6\", \"Topic6\", \"Topic6\", \"Topic6\", \"Topic6\", \"Topic7\", \"Topic7\", \"Topic7\", \"Topic7\", \"Topic7\", \"Topic7\", \"Topic7\", \"Topic7\", \"Topic7\", \"Topic7\", \"Topic7\", \"Topic7\", \"Topic7\", \"Topic7\", \"Topic7\", \"Topic7\", \"Topic7\", \"Topic7\", \"Topic7\", \"Topic7\", \"Topic7\", \"Topic7\", \"Topic7\", \"Topic7\", \"Topic7\", \"Topic7\", \"Topic7\", \"Topic7\", \"Topic7\", \"Topic7\", \"Topic7\", \"Topic7\", \"Topic8\", \"Topic8\", \"Topic8\", \"Topic8\", \"Topic8\", \"Topic8\", \"Topic8\", \"Topic8\", \"Topic8\", \"Topic8\", \"Topic8\", \"Topic8\", \"Topic8\", \"Topic8\", \"Topic8\", \"Topic8\", \"Topic8\", \"Topic8\", \"Topic8\", \"Topic8\", \"Topic8\", \"Topic8\", \"Topic8\", \"Topic8\", \"Topic8\", \"Topic8\", \"Topic8\", \"Topic8\", \"Topic8\", \"Topic8\", \"Topic8\", \"Topic8\", \"Topic8\", \"Topic8\", \"Topic9\", \"Topic9\", \"Topic9\", \"Topic9\", \"Topic9\", \"Topic9\", \"Topic9\", \"Topic9\", \"Topic9\", \"Topic9\", \"Topic9\", \"Topic9\", \"Topic9\", \"Topic9\", \"Topic9\", \"Topic9\", \"Topic9\", \"Topic9\", \"Topic9\", \"Topic9\", \"Topic9\", \"Topic9\", \"Topic9\", \"Topic9\", \"Topic9\", \"Topic9\", \"Topic9\", \"Topic9\", \"Topic9\", \"Topic9\", \"Topic9\", \"Topic10\", \"Topic10\", \"Topic10\", \"Topic10\", \"Topic10\", \"Topic10\", \"Topic10\", \"Topic10\", \"Topic10\", \"Topic10\", \"Topic10\", \"Topic10\", \"Topic10\", \"Topic10\", \"Topic10\", \"Topic10\", \"Topic10\", \"Topic10\", \"Topic10\", \"Topic10\", \"Topic10\", \"Topic10\", \"Topic10\", \"Topic10\", \"Topic10\", \"Topic10\", \"Topic10\", \"Topic10\", \"Topic10\", \"Topic10\", \"Topic10\"], \"logprob\": [30.0, 29.0, 28.0, 27.0, 26.0, 25.0, 24.0, 23.0, 22.0, 21.0, 20.0, 19.0, 18.0, 17.0, 16.0, 15.0, 14.0, 13.0, 12.0, 11.0, 10.0, 9.0, 8.0, 7.0, 6.0, 5.0, 4.0, 3.0, 2.0, 1.0, -3.5101, -3.2312, -3.292, -3.1594, -3.5732, -3.5755, -2.6518, -3.7089, -4.0192, -3.863, -4.0363, -4.1712, -4.0834, -4.3861, -4.2145, -3.7956, -4.1877, -4.2021, -4.3866, -4.217, -3.1425, -4.5748, -4.56, -4.6253, -4.5289, -4.4173, -3.926, -4.2563, -4.607, -4.7132, -4.1448, -3.7637, -4.0715, -4.2025, -4.1936, -4.1121, -4.2738, -4.2486, -3.2655, -3.1478, -2.8009, -3.2281, -3.4333, -3.5698, -3.5784, -3.7732, -3.6948, -3.6812, -3.9846, -4.3026, -4.3335, -4.3801, -3.8207, -4.4096, -4.0589, -4.1789, -4.5825, -4.2295, -3.9174, -3.9506, -4.5696, -4.6764, -4.1739, -4.5246, -4.655, -4.7503, -4.8947, -4.5765, -3.7613, -3.3524, -3.9388, -4.262, -4.308, -4.2201, -4.3579, -4.323, -2.4906, -2.8218, -2.8218, -2.426, -3.2407, -2.5407, -3.3105, -3.4982, -3.5432, -3.7182, -3.9743, -4.167, -4.4118, -4.3275, -4.4543, -4.0824, -4.6134, -4.54, -2.8835, -3.6515, -3.6881, -4.1354, -4.6538, -4.5245, -4.243, -4.886, -5.1076, -4.4672, -5.0635, -4.8825, -4.9369, -4.0839, -4.8192, -4.822, -4.7816, -2.9085, -3.1747, -2.5591, -3.4947, -3.217, -3.3157, -3.1014, -3.047, -3.1827, -3.0812, -3.4801, -4.1298, -3.9902, -4.0984, -3.8463, -4.4265, -4.7353, -4.3718, -4.6796, -4.0924, -4.6574, -4.6564, -4.7868, -4.0794, -4.1923, -4.861, -4.4491, -5.0798, -3.1602, -4.7217, -4.2717, -3.8968, -3.9667, -4.2465, -4.5591, -4.6364, -1.77, -2.7912, -2.8905, -2.9661, -3.5846, -2.9321, -3.7187, -3.8072, -3.8791, -3.4453, -3.9132, -3.9726, -4.073, -4.0263, -4.1036, -3.7374, -3.7537, -3.9051, -2.783, -3.9577, -4.1158, -4.3973, -4.115, -4.1754, -4.1127, -4.8018, -4.9275, -4.7423, -4.2049, -4.1398, -4.0291, -4.7173, -4.5394, -2.1692, -3.1454, -2.661, -3.2414, -2.7781, -2.9741, -4.2042, -3.3081, -3.2524, -2.542, -4.3015, -4.3044, -3.4136, -4.3016, -4.5366, -4.4257, -4.685, -3.5125, -4.6777, -3.903, -3.7823, -4.8665, -3.9327, -4.5197, -4.7346, -4.5783, -4.4373, -4.7432, -4.5451, -4.3705, -4.4324, -4.4969, -2.4012, -2.1213, -2.0538, -3.1568, -3.4838, -3.5059, -3.1476, -3.7223, -3.7817, -4.0057, -4.0165, -3.8936, -4.0985, -3.9727, -3.6371, -3.6349, -3.3091, -4.2228, -4.5382, -3.9873, -4.11, -4.226, -4.3066, -4.7399, -4.7204, -4.4097, -4.153, -3.3473, -5.164, -4.9662, -4.7159, -4.4904, -2.5775, -2.6484, -2.7769, -2.3386, -3.6317, -3.1321, -2.8456, -4.0733, -4.0176, -3.9013, -3.4848, -3.4937, -3.5233, -4.5379, -3.7966, -4.1166, -4.4961, -4.1295, -3.9393, -4.1706, -3.5411, -4.5264, -3.0172, -4.4628, -4.2196, -4.664, -4.7781, -4.8136, -4.9728, -4.6447, -3.9579, -4.3486, -4.399, -4.5858, -2.5163, -2.3783, -2.5054, -2.2538, -2.7735, -3.7313, -3.8651, -3.522, -4.0201, -3.8909, -4.1181, -4.1208, -3.5101, -4.1666, -4.4039, -4.1089, -4.6579, -4.4066, -4.4437, -3.5648, -4.6494, -4.6364, -4.237, -3.7641, -3.0951, -4.2688, -3.9321, -4.26, -4.6545, -4.1461, -4.0706, -2.448, -2.086, -2.0976, -2.3176, -2.8665, -3.5086, -3.2066, -3.6056, -3.8282, -3.856, -3.2113, -3.7533, -3.2056, -3.5769, -4.1179, -4.2716, -3.8473, -3.8451, -4.3687, -4.6423, -4.2812, -5.002, -4.9356, -3.3755, -5.0683, -4.4265, -5.2422, -5.2088, -4.8588, -5.8795, -5.5964], \"loglift\": [30.0, 29.0, 28.0, 27.0, 26.0, 25.0, 24.0, 23.0, 22.0, 21.0, 20.0, 19.0, 18.0, 17.0, 16.0, 15.0, 14.0, 13.0, 12.0, 11.0, 10.0, 9.0, 8.0, 7.0, 6.0, 5.0, 4.0, 3.0, 2.0, 1.0, 1.7435, 1.7369, 1.7213, 1.5167, 1.4021, 1.3441, 1.1528, 1.1173, 0.9389, 0.831, 0.8071, 0.786, 0.7261, 0.7228, 0.5862, 0.5608, 0.5398, 0.5153, 0.5148, 0.4458, 0.4261, 0.386, 0.3728, 0.3455, 0.2977, 0.2542, 0.24, 0.2257, 0.2214, 0.1444, 0.0999, 0.0352, 0.0873, -0.0009, -0.0212, -0.1904, -0.03, -1.1011, 1.8404, 1.819, 1.7358, 1.5929, 1.2671, 1.1577, 1.0631, 1.0535, 0.968, 0.9603, 0.663, 0.6554, 0.6177, 0.5425, 0.5356, 0.5231, 0.4739, 0.4139, 0.3667, 0.3267, 0.3242, 0.2932, 0.2619, 0.152, 0.1233, 0.0923, 0.0899, 0.0844, 0.0806, 0.0771, 0.0376, -0.205, -0.1342, -0.0612, -0.1223, -0.3199, -0.1562, -0.7544, 2.0752, 2.0649, 2.0649, 1.7816, 1.7792, 1.7431, 1.5765, 1.3626, 1.1955, 0.992, 0.7554, 0.7222, 0.5394, 0.5073, 0.4784, 0.3702, 0.3359, 0.2884, 0.264, 0.2487, 0.2336, 0.1618, 0.1558, 0.0924, -0.0422, -0.0598, -0.2865, -0.3084, -0.3461, -0.3497, -0.3661, -0.5153, -0.5754, -0.6119, -0.9903, 1.9634, 1.7825, 1.6266, 1.3629, 1.2651, 1.2551, 1.1433, 1.1253, 1.121, 0.819, 0.7615, 0.6709, 0.6513, 0.6464, 0.3614, 0.2909, 0.2846, 0.2818, 0.2074, 0.2048, 0.1774, 0.1697, 0.146, 0.1222, 0.0915, 0.0883, 0.0837, 0.0291, -0.0127, -0.0213, -0.0279, -0.0979, -0.1621, -0.6778, -0.552, -0.3592, 2.0213, 1.9626, 1.941, 1.5901, 1.2588, 1.2267, 1.1828, 1.1536, 1.0436, 0.8519, 0.7038, 0.6989, 0.5888, 0.5665, 0.5592, 0.5073, 0.4564, 0.4512, 0.3645, 0.2861, 0.1879, 0.1355, 0.1266, 0.1018, 0.0533, 0.033, 0.0236, -0.0036, -0.0326, -0.1326, -0.2302, -0.1465, -0.6392, 2.0458, 1.572, 1.5399, 1.5035, 1.4235, 1.236, 0.9047, 0.8579, 0.7548, 0.6055, 0.5113, 0.4685, 0.3852, 0.352, 0.2896, 0.2683, 0.0687, 0.0561, 0.0227, 0.0187, 0.009, -0.0058, -0.0325, -0.0377, -0.0728, -0.1257, -0.1401, -0.1504, -0.1577, -0.1847, -0.2601, -0.2522, 2.0514, 1.8004, 1.5148, 1.4968, 1.4654, 1.3226, 1.0961, 1.0784, 0.9123, 0.8813, 0.793, 0.7779, 0.6402, 0.62, 0.5353, 0.5311, 0.4898, 0.3942, 0.3633, 0.3164, 0.0757, 0.0156, -0.062, -0.0771, -0.0788, -0.1125, -0.1458, -0.1998, -0.2031, -0.2387, -0.4321, -0.5902, 2.1955, 2.1645, 1.968, 1.6686, 1.1949, 1.1094, 0.9533, 0.7615, 0.7362, 0.7156, 0.6875, 0.6651, 0.6427, 0.571, 0.5597, 0.5249, 0.4234, 0.4033, 0.338, 0.3115, 0.2635, 0.1497, 0.1303, 0.1299, 0.0841, 0.0747, 0.0314, 0.0149, -0.002, -0.0033, -0.0577, -0.1469, -0.1552, -1.0171, 2.3728, 2.3515, 2.2047, 2.0234, 1.8882, 1.2198, 1.0957, 1.0708, 0.9127, 0.8539, 0.7426, 0.7139, 0.6908, 0.5722, 0.5669, 0.4619, 0.3002, 0.2649, 0.2503, 0.2398, 0.2226, 0.2212, 0.1504, 0.1361, 0.0524, 0.0349, -0.0104, -0.0742, -0.0983, -0.1389, -0.5019, 2.4857, 2.3725, 2.2898, 1.8926, 1.7811, 1.4622, 1.3261, 1.3171, 0.8133, 0.7148, 0.6889, 0.603, 0.5857, 0.5819, 0.5536, 0.4288, 0.3676, 0.3565, 0.1133, 0.1025, -0.004, -0.1925, -0.2081, -0.228, -0.3743, -0.4193, -0.9975, -1.0428, -1.06, -1.2381, -1.6747]}, \"token.table\": {\"Topic\": [1, 2, 5, 6, 7, 9, 1, 2, 3, 4, 5, 8, 9, 10, 1, 2, 3, 4, 5, 6, 7, 8, 10, 1, 2, 3, 4, 8, 9, 10, 2, 3, 5, 6, 10, 2, 3, 4, 6, 7, 1, 2, 3, 4, 8, 1, 2, 3, 4, 5, 7, 9, 10, 2, 3, 4, 6, 7, 9, 10, 1, 4, 1, 3, 4, 6, 7, 8, 1, 2, 3, 4, 5, 7, 8, 9, 1, 2, 4, 5, 6, 9, 1, 2, 3, 6, 7, 8, 9, 1, 2, 3, 4, 5, 6, 7, 8, 9, 1, 2, 3, 6, 7, 10, 1, 2, 3, 4, 5, 9, 2, 4, 5, 6, 7, 8, 10, 1, 2, 3, 4, 5, 7, 8, 9, 1, 2, 4, 6, 8, 1, 2, 1, 2, 3, 4, 6, 9, 10, 1, 2, 3, 4, 6, 3, 6, 9, 1, 1, 1, 2, 3, 4, 5, 8, 10, 1, 2, 3, 4, 5, 6, 7, 9, 1, 2, 3, 4, 5, 6, 7, 1, 2, 4, 6, 8, 1, 2, 4, 5, 8, 9, 1, 2, 3, 4, 7, 1, 2, 3, 1, 2, 3, 4, 5, 6, 9, 1, 2, 3, 4, 7, 8, 1, 2, 3, 6, 7, 9, 10, 2, 3, 4, 7, 9, 1, 2, 3, 4, 5, 6, 7, 10, 1, 2, 3, 4, 6, 8, 1, 2, 3, 5, 6, 7, 8, 9, 10, 1, 2, 6, 7, 8, 1, 2, 3, 4, 5, 6, 7, 8, 9, 1, 2, 3, 4, 9, 1, 2, 4, 5, 7, 9, 1, 2, 3, 6, 7, 10, 1, 2, 4, 5, 6, 7, 8, 9, 1, 2, 3, 4, 5, 7, 1, 2, 4, 5, 6, 8, 10, 1, 2, 4, 5, 6, 7, 8, 9, 1, 2, 3, 5, 9, 1, 2, 5, 6, 8, 10, 1, 2, 3, 4, 5, 6, 7, 8, 3, 1, 3, 5, 6, 8, 10, 1, 2, 3, 6, 7, 9, 10, 1, 3, 6, 7, 9, 1, 2, 3, 4, 5, 6, 7, 8, 9, 10, 3, 3, 1, 2, 3, 4, 5, 6, 8, 9, 1, 2, 6, 8, 9, 10, 1, 2, 3, 4, 5, 6, 7, 8, 9, 10, 1, 2, 3, 4, 5, 6, 7, 8, 9, 2, 3, 5, 6, 8, 1, 2, 3, 4, 5, 6, 7, 8, 10, 1, 2, 4, 7, 8, 1, 2, 3, 4, 6, 9, 10, 1, 2, 3, 4, 5, 8, 9, 10, 1, 2, 3, 4, 6, 7, 1, 2, 3, 4, 5, 6, 8, 10, 1, 2, 5, 6, 9, 1, 2, 3, 4, 6, 7, 8, 1, 2, 3, 4, 5, 6, 7, 1, 2, 3, 5, 7, 8, 9, 10, 3, 4, 6, 9, 3, 9, 1, 2, 3, 4, 9, 1, 2, 4, 6, 7, 8, 9, 10, 1, 2, 3, 4, 5, 6, 7, 8, 9, 1, 2, 3, 4, 5, 6, 7, 8, 9, 10, 2, 4, 6, 10, 1, 2, 3, 4, 5, 6, 7, 8, 9, 10, 1, 2, 3, 4, 6, 7, 9, 1, 2, 3, 4, 6, 7, 9, 10, 2, 5, 6, 8, 1, 2, 3, 4, 5, 8, 10, 1, 2, 3, 4, 5, 7, 8, 1, 2, 3, 4, 2, 3, 1, 2, 3, 4, 6, 7, 8, 9, 1, 2, 3, 4, 6, 8], \"Freq\": [0.2541998524461735, 0.08473328414872448, 0.2965664945205357, 0.04236664207436224, 0.08473328414872448, 0.21183321037181121, 0.08554609970743696, 0.04277304985371848, 0.02138652492685924, 0.06415957478057771, 0.10693262463429619, 0.10693262463429619, 0.4918900733177625, 0.06415957478057771, 0.15863449172216157, 0.11897586879162117, 0.019829311465270196, 0.11897586879162117, 0.019829311465270196, 0.35692760637486354, 0.019829311465270196, 0.059487934395810585, 0.09914655732635098, 0.2139569238353582, 0.17116553906828655, 0.04279138476707164, 0.08558276953414327, 0.08558276953414327, 0.12837415430121493, 0.25674830860242986, 0.013155644538672462, 0.039466933616017386, 0.7367160941656579, 0.09208951177070723, 0.11840080084805216, 0.0598469752994238, 0.7181637035930856, 0.1396429423653222, 0.019948991766474602, 0.019948991766474602, 0.2222697823220159, 0.4074946009236958, 0.037044963720335986, 0.07408992744067197, 0.2222697823220159, 0.05736661551288003, 0.11473323102576007, 0.08604992326932005, 0.3441996930772802, 0.08604992326932005, 0.05736661551288003, 0.11473323102576007, 0.11473323102576007, 0.043053604505225336, 0.6888576720836054, 0.10763401126306334, 0.043053604505225336, 0.043053604505225336, 0.021526802252612668, 0.021526802252612668, 0.3798957061114515, 0.590948876173369, 0.26568359099001204, 0.09963134662125453, 0.13284179549500602, 0.43173583535876964, 0.033210448873751505, 0.033210448873751505, 0.0339284545045979, 0.1017853635137937, 0.4071414540551748, 0.0339284545045979, 0.1017853635137937, 0.16964227252298952, 0.0678569090091958, 0.1017853635137937, 0.09424376728955287, 0.1256583563860705, 0.06282917819303525, 0.18848753457910575, 0.09424376728955287, 0.43980424735124674, 0.038332044971002344, 0.15332817988400937, 0.4599845396520281, 0.07666408994200469, 0.038332044971002344, 0.038332044971002344, 0.15332817988400937, 0.1317594878654489, 0.1317594878654489, 0.04391982928848296, 0.3074388050193807, 0.1097995732212074, 0.02195991464424148, 0.1097995732212074, 0.06587974393272444, 0.06587974393272444, 0.26839787072363014, 0.46969627376635276, 0.03354973384045377, 0.06709946768090753, 0.06709946768090753, 0.06709946768090753, 0.3766936543669361, 0.11300809631008082, 0.07533873087338722, 0.03766936543669361, 0.33902428893024245, 0.03766936543669361, 0.24467292882125646, 0.08155764294041883, 0.28545175029146586, 0.04077882147020941, 0.04077882147020941, 0.04077882147020941, 0.24467292882125646, 0.11204681574013638, 0.14939575432018184, 0.1867446929002273, 0.11204681574013638, 0.11204681574013638, 0.03734893858004546, 0.14939575432018184, 0.14939575432018184, 0.07021966602406547, 0.10532949903609821, 0.035109833012032736, 0.14043933204813094, 0.6319769942165893, 0.9389209329047986, 0.04267822422294539, 0.06827184673959802, 0.06827184673959802, 0.03413592336979901, 0.20481554021879406, 0.4096310804375881, 0.17067961684899505, 0.06827184673959802, 0.044944093078695325, 0.044944093078695325, 0.7191054892591252, 0.13483227923608598, 0.044944093078695325, 0.26899390061462974, 0.03362423757682872, 0.706108989113403, 0.9375818485153223, 0.9651730422521495, 0.18998034844178255, 0.09499017422089127, 0.09499017422089127, 0.05699410453253477, 0.3419646271952086, 0.1329862439092478, 0.11398820906506954, 0.15272876325923632, 0.1745471580105558, 0.15272876325923632, 0.13091036850791685, 0.2400023422645142, 0.0872735790052779, 0.06545518425395842, 0.04363678950263895, 0.28878096642497053, 0.10829286240936395, 0.036097620803121316, 0.18048810401560658, 0.036097620803121316, 0.036097620803121316, 0.2526833456218492, 0.14614931696603306, 0.07307465848301653, 0.036537329241508265, 0.14614931696603306, 0.6211345971056406, 0.42247747741417646, 0.29573423418992356, 0.0844954954828353, 0.04224774774141765, 0.04224774774141765, 0.0844954954828353, 0.039351224393498266, 0.039351224393498266, 0.590268365902474, 0.1180536731804948, 0.19675612196749134, 0.04262352280874023, 0.8950939789835449, 0.04262352280874023, 0.08480530587664216, 0.19787904704549836, 0.028268435292214053, 0.056536870584428106, 0.48056339996763886, 0.08480530587664216, 0.056536870584428106, 0.22267904266197627, 0.18556586888498022, 0.1484526951079842, 0.0742263475539921, 0.2969053902159684, 0.0742263475539921, 0.07162994071694098, 0.04775329381129399, 0.023876646905646996, 0.07162994071694098, 0.04775329381129399, 0.07162994071694098, 0.6207928195468219, 0.07752432957617446, 0.07752432957617446, 0.7364811309736574, 0.03876216478808723, 0.07752432957617446, 0.1863122920065654, 0.1242081946710436, 0.04140273155701454, 0.310520486677609, 0.16561092622805815, 0.0621040973355218, 0.08280546311402907, 0.02070136577850727, 0.5183919788246191, 0.07405599697494558, 0.11108399546241837, 0.11108399546241837, 0.11108399546241837, 0.03702799848747279, 0.32775889354757154, 0.10925296451585718, 0.14567061935447626, 0.07283530967723813, 0.036417654838619064, 0.1820882741930953, 0.07283530967723813, 0.036417654838619064, 0.036417654838619064, 0.7648453493330658, 0.06373711244442215, 0.031868556222211075, 0.031868556222211075, 0.09560566866663323, 0.02932014105923487, 0.23456112847387897, 0.02932014105923487, 0.05864028211846974, 0.17592084635540922, 0.08796042317770461, 0.14660070529617436, 0.08796042317770461, 0.2052409874146441, 0.11052010692782459, 0.6999606772095558, 0.07368007128521639, 0.036840035642608196, 0.036840035642608196, 0.25158225864190203, 0.377373387962853, 0.06289556466047551, 0.15723891165118875, 0.06289556466047551, 0.031447782330237754, 0.10047425543878324, 0.060284553263269945, 0.02009485108775665, 0.6832249369837261, 0.02009485108775665, 0.10047425543878324, 0.19105382034053858, 0.15284305627243086, 0.38210764068107717, 0.07642152813621543, 0.038210764068107715, 0.038210764068107715, 0.038210764068107715, 0.07642152813621543, 0.279473407824385, 0.15969909018536285, 0.03992477254634071, 0.07984954509268143, 0.3193981803707257, 0.11977431763902215, 0.20997871926750808, 0.10498935963375404, 0.3674627587181391, 0.05249467981687702, 0.07874201972531553, 0.10498935963375404, 0.07874201972531553, 0.15405551834134343, 0.07702775917067171, 0.30811103668268686, 0.09628469896333965, 0.07702775917067171, 0.1347985785486755, 0.1347985785486755, 0.01925693979266793, 0.16783547407849947, 0.25175321111774923, 0.20979434259812435, 0.08391773703924973, 0.20979434259812435, 0.30091347136805274, 0.2546190911575831, 0.16203033073664377, 0.04629438021046965, 0.11573595052617412, 0.11573595052617412, 0.16546380636711278, 0.18614678216300187, 0.062048927387667284, 0.10341487897944547, 0.12409785477533457, 0.041365951591778194, 0.24819570955066914, 0.062048927387667284, 0.9441833525469189, 0.019998534672759784, 0.05999560401827936, 0.15998827738207827, 0.2999780200913968, 0.019998534672759784, 0.4199692281279555, 0.13488500887574417, 0.04496166962524806, 0.14987223208416017, 0.08992333925049611, 0.49457836587772863, 0.05994889283366407, 0.014987223208416018, 0.0764571433483818, 0.1784000011462242, 0.0764571433483818, 0.637142861236515, 0.0254857144494606, 0.17232206239169737, 0.14581097586989777, 0.026511086521799596, 0.09278880282629859, 0.07953325956539878, 0.13255543260899796, 0.13255543260899796, 0.18557760565259718, 0.013255543260899798, 0.026511086521799596, 0.9703614713335228, 0.9441833525469189, 0.519922951342309, 0.13331357726725873, 0.026662715453451745, 0.07998814636035524, 0.026662715453451745, 0.026662715453451745, 0.0933195040870811, 0.07998814636035524, 0.18584156615755426, 0.2787623492363314, 0.06194718871918476, 0.06194718871918476, 0.03097359435959238, 0.3716831323151085, 0.05867481870667491, 0.1026809327366811, 0.16135575144335598, 0.23469927482669964, 0.05867481870667491, 0.08801222806001237, 0.044006114030006184, 0.05867481870667491, 0.07334352338334363, 0.13201834209001853, 0.2527013675874121, 0.07370456554632852, 0.07370456554632852, 0.05264611824737751, 0.021058447298951007, 0.09476301284527953, 0.36852282773164263, 0.021058447298951007, 0.042116894597902015, 0.18613141978202796, 0.03722628395640559, 0.6700731112153007, 0.03722628395640559, 0.03722628395640559, 0.21049331180098146, 0.07654302247308416, 0.05740726685481312, 0.05740726685481312, 0.09567877809135521, 0.21049331180098146, 0.1339502893278973, 0.1339502893278973, 0.01913575561827104, 0.6504204522830794, 0.1219538348030774, 0.040651278267692464, 0.040651278267692464, 0.1219538348030774, 0.0979580638789587, 0.5224430073544464, 0.0326526879596529, 0.0979580638789587, 0.0979580638789587, 0.0653053759193058, 0.0979580638789587, 0.18470477787468426, 0.3694095557493685, 0.061568259291561414, 0.18470477787468426, 0.061568259291561414, 0.061568259291561414, 0.030784129645780707, 0.030784129645780707, 0.08375926645179767, 0.20939816612949416, 0.16751853290359534, 0.1256388996776965, 0.041879633225898834, 0.33503706580719067, 0.025636606825646394, 0.07690982047693919, 0.025636606825646394, 0.025636606825646394, 0.05127321365129279, 0.05127321365129279, 0.05127321365129279, 0.6665517774668063, 0.6877438683411214, 0.17193596708528036, 0.08596798354264018, 0.04298399177132009, 0.04298399177132009, 0.3438941959486049, 0.09825548455674424, 0.04912774227837212, 0.09825548455674424, 0.19651096911348848, 0.04912774227837212, 0.14738322683511637, 0.12463815722006054, 0.15579769652507566, 0.06231907861003027, 0.12463815722006054, 0.031159539305015135, 0.12463815722006054, 0.3739144716601816, 0.22206316705439247, 0.09516992873759678, 0.03172330957919892, 0.19033985747519355, 0.19033985747519355, 0.06344661915839785, 0.09516992873759678, 0.09516992873759678, 0.32972867806089656, 0.032972867806089656, 0.032972867806089656, 0.5935116205096138, 0.23661019737053451, 0.7098305921116036, 0.2471566599175575, 0.2471566599175575, 0.20596388326463125, 0.12357832995877875, 0.164771106611705, 0.061572797937110846, 0.4310095855597759, 0.09235919690566627, 0.030786398968555423, 0.061572797937110846, 0.12314559587422169, 0.030786398968555423, 0.15393199484277711, 0.12382140543776397, 0.20636900906293995, 0.020636900906293998, 0.20636900906293995, 0.10318450453146998, 0.020636900906293998, 0.08254760362517599, 0.20636900906293995, 0.020636900906293998, 0.055281181814435164, 0.11747251135567473, 0.15893339771650108, 0.09674206817526154, 0.1382029545360879, 0.15893339771650108, 0.06910147726804396, 0.07601162499484836, 0.06910147726804396, 0.04837103408763077, 0.08246015140839885, 0.08246015140839885, 0.041230075704199426, 0.7421413626755896, 0.0489748753530006, 0.06529983380400081, 0.016324958451000203, 0.06529983380400081, 0.08162479225500101, 0.17957454296100223, 0.06529983380400081, 0.37547404437300463, 0.06529983380400081, 0.0489748753530006, 0.11888000937441938, 0.13869334427015595, 0.11888000937441938, 0.05944000468720969, 0.4160800328104678, 0.039626669791473126, 0.13869334427015595, 0.38932605070604404, 0.09733151267651101, 0.03244383755883701, 0.06488767511767402, 0.12977535023534803, 0.19466302535302202, 0.09733151267651101, 0.03244383755883701, 0.03444212775300571, 0.6888425550601143, 0.10332638325901713, 0.13776851101202284, 0.11045180597042677, 0.22090361194085353, 0.08283885447782006, 0.11045180597042677, 0.11045180597042677, 0.11045180597042677, 0.2485165634334602, 0.15019170106385765, 0.15019170106385765, 0.12015336085108613, 0.0901150206383146, 0.21026838148940072, 0.12015336085108613, 0.15019170106385765, 0.0554450637768536, 0.831675956652804, 0.0277225318884268, 0.0554450637768536, 0.9306427516319397, 0.04898119745431261, 0.058550093305008384, 0.1366168843783529, 0.03903339553667226, 0.5074341419767393, 0.07806679107334452, 0.07806679107334452, 0.03903339553667226, 0.058550093305008384, 0.17068416996581037, 0.17068416996581037, 0.03413683399316207, 0.06827366798632414, 0.06827366798632414, 0.5120525098974311], \"Term\": [\"action\", \"action\", \"action\", \"action\", \"action\", \"action\", \"america\", \"america\", \"america\", \"america\", \"america\", \"america\", \"america\", \"america\", \"american\", \"american\", \"american\", \"american\", \"american\", \"american\", \"american\", \"american\", \"american\", \"back\", \"back\", \"back\", \"back\", \"back\", \"back\", \"back\", \"barr\", \"barr\", \"barr\", \"barr\", \"barr\", \"bibl\", \"bibl\", \"bibl\", \"bibl\", \"bibl\", \"black\", \"black\", \"black\", \"black\", \"black\", \"call\", \"call\", \"call\", \"call\", \"call\", \"call\", \"call\", \"call\", \"church\", \"church\", \"church\", \"church\", \"church\", \"church\", \"church\", \"citi\", \"citi\", \"citizen\", \"citizen\", \"citizen\", \"citizen\", \"citizen\", \"citizen\", \"clear\", \"clear\", \"clear\", \"clear\", \"clear\", \"clear\", \"clear\", \"clear\", \"come\", \"come\", \"come\", \"come\", \"come\", \"come\", \"could\", \"could\", \"could\", \"could\", \"could\", \"could\", \"could\", \"countri\", \"countri\", \"countri\", \"countri\", \"countri\", \"countri\", \"countri\", \"countri\", \"countri\", \"day\", \"day\", \"day\", \"day\", \"day\", \"day\", \"dont\", \"dont\", \"dont\", \"dont\", \"dont\", \"dont\", \"elect\", \"elect\", \"elect\", \"elect\", \"elect\", \"elect\", \"elect\", \"even\", \"even\", \"even\", \"even\", \"even\", \"even\", \"even\", \"even\", \"first\", \"first\", \"first\", \"first\", \"first\", \"floyd\", \"floyd\", \"forc\", \"forc\", \"forc\", \"forc\", \"forc\", \"forc\", \"forc\", \"front\", \"front\", \"front\", \"front\", \"front\", \"gas\", \"gas\", \"gas\", \"georg\", \"georg floyd\", \"get\", \"get\", \"get\", \"get\", \"get\", \"get\", \"get\", \"go\", \"go\", \"go\", \"go\", \"go\", \"go\", \"go\", \"go\", \"good\", \"good\", \"good\", \"good\", \"good\", \"good\", \"good\", \"govern\", \"govern\", \"govern\", \"govern\", \"govern\", \"happen\", \"happen\", \"happen\", \"happen\", \"happen\", \"happen\", \"hold\", \"hold\", \"hold\", \"hold\", \"hold\", \"hous\", \"hous\", \"hous\", \"know\", \"know\", \"know\", \"know\", \"know\", \"know\", \"know\", \"last\", \"last\", \"last\", \"last\", \"last\", \"last\", \"law\", \"law\", \"law\", \"law\", \"law\", \"law\", \"law\", \"leader\", \"leader\", \"leader\", \"leader\", \"leader\", \"like\", \"like\", \"like\", \"like\", \"like\", \"like\", \"like\", \"like\", \"live\", \"live\", \"live\", \"live\", \"live\", \"live\", \"look\", \"look\", \"look\", \"look\", \"look\", \"look\", \"look\", \"look\", \"look\", \"loot\", \"loot\", \"loot\", \"loot\", \"loot\", \"make\", \"make\", \"make\", \"make\", \"make\", \"make\", \"make\", \"make\", \"make\", \"man\", \"man\", \"man\", \"man\", \"man\", \"mani\", \"mani\", \"mani\", \"mani\", \"mani\", \"mani\", \"militari\", \"militari\", \"militari\", \"militari\", \"militari\", \"militari\", \"much\", \"much\", \"much\", \"much\", \"much\", \"much\", \"much\", \"much\", \"must\", \"must\", \"must\", \"must\", \"must\", \"must\", \"nation\", \"nation\", \"nation\", \"nation\", \"nation\", \"nation\", \"nation\", \"need\", \"need\", \"need\", \"need\", \"need\", \"need\", \"need\", \"need\", \"never\", \"never\", \"never\", \"never\", \"never\", \"offic\", \"offic\", \"offic\", \"offic\", \"offic\", \"offic\", \"one\", \"one\", \"one\", \"one\", \"one\", \"one\", \"one\", \"one\", \"op\", \"order\", \"order\", \"order\", \"order\", \"order\", \"order\", \"peac\", \"peac\", \"peac\", \"peac\", \"peac\", \"peac\", \"peac\", \"peac protest\", \"peac protest\", \"peac protest\", \"peac protest\", \"peac protest\", \"peopl\", \"peopl\", \"peopl\", \"peopl\", \"peopl\", \"peopl\", \"peopl\", \"peopl\", \"peopl\", \"peopl\", \"photo\", \"photo op\", \"polic\", \"polic\", \"polic\", \"polic\", \"polic\", \"polic\", \"polic\", \"polic\", \"power\", \"power\", \"power\", \"power\", \"power\", \"power\", \"presid\", \"presid\", \"presid\", \"presid\", \"presid\", \"presid\", \"presid\", \"presid\", \"presid\", \"presid\", \"protest\", \"protest\", \"protest\", \"protest\", \"protest\", \"protest\", \"protest\", \"protest\", \"protest\", \"republican\", \"republican\", \"republican\", \"republican\", \"republican\", \"right\", \"right\", \"right\", \"right\", \"right\", \"right\", \"right\", \"right\", \"right\", \"riot\", \"riot\", \"riot\", \"riot\", \"riot\", \"say\", \"say\", \"say\", \"say\", \"say\", \"say\", \"say\", \"see\", \"see\", \"see\", \"see\", \"see\", \"see\", \"see\", \"see\", \"show\", \"show\", \"show\", \"show\", \"show\", \"show\", \"state\", \"state\", \"state\", \"state\", \"state\", \"state\", \"state\", \"state\", \"stop\", \"stop\", \"stop\", \"stop\", \"stop\", \"street\", \"street\", \"street\", \"street\", \"street\", \"street\", \"street\", \"support\", \"support\", \"support\", \"support\", \"support\", \"support\", \"support\", \"take\", \"take\", \"take\", \"take\", \"take\", \"take\", \"take\", \"take\", \"tear\", \"tear\", \"tear\", \"tear\", \"tear gas\", \"tear gas\", \"thing\", \"thing\", \"thing\", \"thing\", \"thing\", \"think\", \"think\", \"think\", \"think\", \"think\", \"think\", \"think\", \"think\", \"time\", \"time\", \"time\", \"time\", \"time\", \"time\", \"time\", \"time\", \"time\", \"trump\", \"trump\", \"trump\", \"trump\", \"trump\", \"trump\", \"trump\", \"trump\", \"trump\", \"trump\", \"unit\", \"unit\", \"unit\", \"unit\", \"us\", \"us\", \"us\", \"us\", \"us\", \"us\", \"us\", \"us\", \"us\", \"us\", \"use\", \"use\", \"use\", \"use\", \"use\", \"use\", \"use\", \"violenc\", \"violenc\", \"violenc\", \"violenc\", \"violenc\", \"violenc\", \"violenc\", \"violenc\", \"vote\", \"vote\", \"vote\", \"vote\", \"want\", \"want\", \"want\", \"want\", \"want\", \"want\", \"want\", \"way\", \"way\", \"way\", \"way\", \"way\", \"way\", \"way\", \"white\", \"white\", \"white\", \"white\", \"white hous\", \"white hous\", \"would\", \"would\", \"would\", \"would\", \"would\", \"would\", \"would\", \"would\", \"year\", \"year\", \"year\", \"year\", \"year\", \"year\"]}, \"R\": 30, \"lambda.step\": 0.01, \"plot.opts\": {\"xlab\": \"PC1\", \"ylab\": \"PC2\"}, \"topic.order\": [7, 5, 10, 6, 2, 9, 3, 1, 4, 8]};\n",
       "\n",
       "function LDAvis_load_lib(url, callback){\n",
       "  var s = document.createElement('script');\n",
       "  s.src = url;\n",
       "  s.async = true;\n",
       "  s.onreadystatechange = s.onload = callback;\n",
       "  s.onerror = function(){console.warn(\"failed to load library \" + url);};\n",
       "  document.getElementsByTagName(\"head\")[0].appendChild(s);\n",
       "}\n",
       "\n",
       "if(typeof(LDAvis) !== \"undefined\"){\n",
       "   // already loaded: just create the visualization\n",
       "   !function(LDAvis){\n",
       "       new LDAvis(\"#\" + \"ldavis_el975581402035574199841717014639\", ldavis_el975581402035574199841717014639_data);\n",
       "   }(LDAvis);\n",
       "}else if(typeof define === \"function\" && define.amd){\n",
       "   // require.js is available: use it to load d3/LDAvis\n",
       "   require.config({paths: {d3: \"https://cdnjs.cloudflare.com/ajax/libs/d3/3.5.5/d3.min\"}});\n",
       "   require([\"d3\"], function(d3){\n",
       "      window.d3 = d3;\n",
       "      LDAvis_load_lib(\"https://cdn.rawgit.com/bmabey/pyLDAvis/files/ldavis.v1.0.0.js\", function(){\n",
       "        new LDAvis(\"#\" + \"ldavis_el975581402035574199841717014639\", ldavis_el975581402035574199841717014639_data);\n",
       "      });\n",
       "    });\n",
       "}else{\n",
       "    // require.js not available: dynamically load d3 & LDAvis\n",
       "    LDAvis_load_lib(\"https://cdnjs.cloudflare.com/ajax/libs/d3/3.5.5/d3.min.js\", function(){\n",
       "         LDAvis_load_lib(\"https://cdn.rawgit.com/bmabey/pyLDAvis/files/ldavis.v1.0.0.js\", function(){\n",
       "                 new LDAvis(\"#\" + \"ldavis_el975581402035574199841717014639\", ldavis_el975581402035574199841717014639_data);\n",
       "            })\n",
       "         });\n",
       "}\n",
       "</script>"
      ],
      "text/plain": [
       "PreparedData(topic_coordinates=              x         y  topics  cluster       Freq\n",
       "topic                                                \n",
       "6     -0.020418 -0.112691       1        1  16.574232\n",
       "4      0.007739 -0.043768       2        1  14.584846\n",
       "9     -0.171110  0.146807       3        1  12.222577\n",
       "5     -0.048141 -0.050764       4        1  10.098903\n",
       "1      0.113014 -0.020487       5        1   9.774901\n",
       "8      0.042694  0.018523       6        1   8.808992\n",
       "2     -0.145727 -0.078478       7        1   8.079862\n",
       "0      0.074659 -0.133695       8        1   6.953412\n",
       "3     -0.099592  0.135648       9        1   6.592434\n",
       "7      0.246882  0.138905      10        1   6.309841, topic_info=        Term       Freq      Total Category  logprob  loglift\n",
       "4       barr  76.000000  76.000000  Default  30.0000  30.0000\n",
       "44  militari  49.000000  49.000000  Default  29.0000  29.0000\n",
       "69     state  39.000000  39.000000  Default  28.0000  28.0000\n",
       "57     photo  35.000000  35.000000  Default  27.0000  27.0000\n",
       "35       law  41.000000  41.000000  Default  26.0000  26.0000\n",
       "..       ...        ...        ...      ...      ...      ...\n",
       "37      like   1.124127  48.305992  Topic10  -5.2422  -0.9975\n",
       "64     right   1.162261  52.258192  Topic10  -5.2088  -1.0428\n",
       "56     peopl   1.649257  75.440137  Topic10  -4.8588  -1.0600\n",
       "67       see   0.594302  32.484271  Topic10  -5.8795  -1.2381\n",
       "54      peac   0.788838  66.723501  Topic10  -5.5964  -1.6747\n",
       "\n",
       "[370 rows x 6 columns], token_table=      Topic      Freq    Term\n",
       "term                         \n",
       "0         1  0.254200  action\n",
       "0         2  0.084733  action\n",
       "0         5  0.296566  action\n",
       "0         6  0.042367  action\n",
       "0         7  0.084733  action\n",
       "...     ...       ...     ...\n",
       "90        2  0.170684    year\n",
       "90        3  0.034137    year\n",
       "90        4  0.068274    year\n",
       "90        6  0.068274    year\n",
       "90        8  0.512053    year\n",
       "\n",
       "[561 rows x 3 columns], R=30, lambda_step=0.01, plot_opts={'xlab': 'PC1', 'ylab': 'PC2'}, topic_order=[7, 5, 10, 6, 2, 9, 3, 1, 4, 8])"
      ]
     },
     "execution_count": 105,
     "metadata": {},
     "output_type": "execute_result"
    }
   ],
   "source": [
    "%%time\n",
    "#Import visualization tools for LDA models\n",
    "import pyLDAvis\n",
    "import pyLDAvis.sklearn\n",
    "pyLDAvis.enable_notebook()\n",
    "\n",
    "# Let us visualize these topics\n",
    "pyLDAvis.sklearn.prepare(lda_model, token_matrix, tfidf)"
   ]
  },
  {
   "cell_type": "code",
   "execution_count": 106,
   "metadata": {},
   "outputs": [
    {
     "name": "stderr",
     "output_type": "stream",
     "text": [
      "/Users/andrewberry/opt/anaconda3/lib/python3.7/site-packages/pyLDAvis/sklearn.py:26: RuntimeWarning: invalid value encountered in true_divide\n",
      "  return dists / dists.sum(axis=1)[:, None]\n"
     ]
    },
    {
     "ename": "ValidationError",
     "evalue": "\n * Not all rows (distributions) in doc_topic_dists sum to 1.",
     "output_type": "error",
     "traceback": [
      "\u001b[0;31m---------------------------------------------------------------------------\u001b[0m",
      "\u001b[0;31mValidationError\u001b[0m                           Traceback (most recent call last)",
      "\u001b[0;32m<ipython-input-106-3b697dad37c8>\u001b[0m in \u001b[0;36m<module>\u001b[0;34m\u001b[0m\n\u001b[0;32m----> 1\u001b[0;31m \u001b[0mpyLDAvis\u001b[0m\u001b[0;34m.\u001b[0m\u001b[0msklearn\u001b[0m\u001b[0;34m.\u001b[0m\u001b[0mprepare\u001b[0m\u001b[0;34m(\u001b[0m\u001b[0mNMF_model\u001b[0m\u001b[0;34m,\u001b[0m \u001b[0mtoken_matrix\u001b[0m\u001b[0;34m,\u001b[0m \u001b[0mtfidf\u001b[0m\u001b[0;34m)\u001b[0m\u001b[0;34m\u001b[0m\u001b[0;34m\u001b[0m\u001b[0m\n\u001b[0m",
      "\u001b[0;32m~/opt/anaconda3/lib/python3.7/site-packages/pyLDAvis/sklearn.py\u001b[0m in \u001b[0;36mprepare\u001b[0;34m(lda_model, dtm, vectorizer, **kwargs)\u001b[0m\n\u001b[1;32m     93\u001b[0m     \"\"\"\n\u001b[1;32m     94\u001b[0m     \u001b[0mopts\u001b[0m \u001b[0;34m=\u001b[0m \u001b[0mfp\u001b[0m\u001b[0;34m.\u001b[0m\u001b[0mmerge\u001b[0m\u001b[0;34m(\u001b[0m\u001b[0m_extract_data\u001b[0m\u001b[0;34m(\u001b[0m\u001b[0mlda_model\u001b[0m\u001b[0;34m,\u001b[0m \u001b[0mdtm\u001b[0m\u001b[0;34m,\u001b[0m \u001b[0mvectorizer\u001b[0m\u001b[0;34m)\u001b[0m\u001b[0;34m,\u001b[0m \u001b[0mkwargs\u001b[0m\u001b[0;34m)\u001b[0m\u001b[0;34m\u001b[0m\u001b[0;34m\u001b[0m\u001b[0m\n\u001b[0;32m---> 95\u001b[0;31m     \u001b[0;32mreturn\u001b[0m \u001b[0mpyLDAvis\u001b[0m\u001b[0;34m.\u001b[0m\u001b[0mprepare\u001b[0m\u001b[0;34m(\u001b[0m\u001b[0;34m**\u001b[0m\u001b[0mopts\u001b[0m\u001b[0;34m)\u001b[0m\u001b[0;34m\u001b[0m\u001b[0;34m\u001b[0m\u001b[0m\n\u001b[0m",
      "\u001b[0;32m~/opt/anaconda3/lib/python3.7/site-packages/pyLDAvis/_prepare.py\u001b[0m in \u001b[0;36mprepare\u001b[0;34m(topic_term_dists, doc_topic_dists, doc_lengths, vocab, term_frequency, R, lambda_step, mds, n_jobs, plot_opts, sort_topics)\u001b[0m\n\u001b[1;32m    372\u001b[0m    \u001b[0mdoc_lengths\u001b[0m      \u001b[0;34m=\u001b[0m \u001b[0m_series_with_name\u001b[0m\u001b[0;34m(\u001b[0m\u001b[0mdoc_lengths\u001b[0m\u001b[0;34m,\u001b[0m \u001b[0;34m'doc_length'\u001b[0m\u001b[0;34m)\u001b[0m\u001b[0;34m\u001b[0m\u001b[0;34m\u001b[0m\u001b[0m\n\u001b[1;32m    373\u001b[0m    \u001b[0mvocab\u001b[0m            \u001b[0;34m=\u001b[0m \u001b[0m_series_with_name\u001b[0m\u001b[0;34m(\u001b[0m\u001b[0mvocab\u001b[0m\u001b[0;34m,\u001b[0m \u001b[0;34m'vocab'\u001b[0m\u001b[0;34m)\u001b[0m\u001b[0;34m\u001b[0m\u001b[0;34m\u001b[0m\u001b[0m\n\u001b[0;32m--> 374\u001b[0;31m    \u001b[0m_input_validate\u001b[0m\u001b[0;34m(\u001b[0m\u001b[0mtopic_term_dists\u001b[0m\u001b[0;34m,\u001b[0m \u001b[0mdoc_topic_dists\u001b[0m\u001b[0;34m,\u001b[0m \u001b[0mdoc_lengths\u001b[0m\u001b[0;34m,\u001b[0m \u001b[0mvocab\u001b[0m\u001b[0;34m,\u001b[0m \u001b[0mterm_frequency\u001b[0m\u001b[0;34m)\u001b[0m\u001b[0;34m\u001b[0m\u001b[0;34m\u001b[0m\u001b[0m\n\u001b[0m\u001b[1;32m    375\u001b[0m    \u001b[0mR\u001b[0m \u001b[0;34m=\u001b[0m \u001b[0mmin\u001b[0m\u001b[0;34m(\u001b[0m\u001b[0mR\u001b[0m\u001b[0;34m,\u001b[0m \u001b[0mlen\u001b[0m\u001b[0;34m(\u001b[0m\u001b[0mvocab\u001b[0m\u001b[0;34m)\u001b[0m\u001b[0;34m)\u001b[0m\u001b[0;34m\u001b[0m\u001b[0;34m\u001b[0m\u001b[0m\n\u001b[1;32m    376\u001b[0m \u001b[0;34m\u001b[0m\u001b[0m\n",
      "\u001b[0;32m~/opt/anaconda3/lib/python3.7/site-packages/pyLDAvis/_prepare.py\u001b[0m in \u001b[0;36m_input_validate\u001b[0;34m(*args)\u001b[0m\n\u001b[1;32m     63\u001b[0m    \u001b[0mres\u001b[0m \u001b[0;34m=\u001b[0m \u001b[0m_input_check\u001b[0m\u001b[0;34m(\u001b[0m\u001b[0;34m*\u001b[0m\u001b[0margs\u001b[0m\u001b[0;34m)\u001b[0m\u001b[0;34m\u001b[0m\u001b[0;34m\u001b[0m\u001b[0m\n\u001b[1;32m     64\u001b[0m    \u001b[0;32mif\u001b[0m \u001b[0mres\u001b[0m\u001b[0;34m:\u001b[0m\u001b[0;34m\u001b[0m\u001b[0;34m\u001b[0m\u001b[0m\n\u001b[0;32m---> 65\u001b[0;31m       \u001b[0;32mraise\u001b[0m \u001b[0mValidationError\u001b[0m\u001b[0;34m(\u001b[0m\u001b[0;34m'\\n'\u001b[0m \u001b[0;34m+\u001b[0m \u001b[0;34m'\\n'\u001b[0m\u001b[0;34m.\u001b[0m\u001b[0mjoin\u001b[0m\u001b[0;34m(\u001b[0m\u001b[0;34m[\u001b[0m\u001b[0;34m' * '\u001b[0m \u001b[0;34m+\u001b[0m \u001b[0ms\u001b[0m \u001b[0;32mfor\u001b[0m \u001b[0ms\u001b[0m \u001b[0;32min\u001b[0m \u001b[0mres\u001b[0m\u001b[0;34m]\u001b[0m\u001b[0;34m)\u001b[0m\u001b[0;34m)\u001b[0m\u001b[0;34m\u001b[0m\u001b[0;34m\u001b[0m\u001b[0m\n\u001b[0m\u001b[1;32m     66\u001b[0m \u001b[0;34m\u001b[0m\u001b[0m\n\u001b[1;32m     67\u001b[0m \u001b[0;34m\u001b[0m\u001b[0m\n",
      "\u001b[0;31mValidationError\u001b[0m: \n * Not all rows (distributions) in doc_topic_dists sum to 1."
     ]
    }
   ],
   "source": [
    "pyLDAvis.sklearn.prepare(NMF_model, token_matrix, tfidf)"
   ]
  },
  {
   "cell_type": "code",
   "execution_count": null,
   "metadata": {},
   "outputs": [],
   "source": []
  },
  {
   "cell_type": "code",
   "execution_count": null,
   "metadata": {},
   "outputs": [],
   "source": []
  },
  {
   "cell_type": "code",
   "execution_count": null,
   "metadata": {},
   "outputs": [],
   "source": []
  }
 ],
 "metadata": {
  "kernelspec": {
   "display_name": "Python 3",
   "language": "python",
   "name": "python3"
  },
  "language_info": {
   "codemirror_mode": {
    "name": "ipython",
    "version": 3
   },
   "file_extension": ".py",
   "mimetype": "text/x-python",
   "name": "python",
   "nbconvert_exporter": "python",
   "pygments_lexer": "ipython3",
   "version": "3.7.6"
  }
 },
 "nbformat": 4,
 "nbformat_minor": 4
}
