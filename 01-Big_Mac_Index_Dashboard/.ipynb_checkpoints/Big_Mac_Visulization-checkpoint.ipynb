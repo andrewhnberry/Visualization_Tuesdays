{
 "cells": [
  {
   "cell_type": "markdown",
   "metadata": {},
   "source": [
    "### Big Mac Index Visualization\n",
    "\n",
    "This project aims to create an interactive dashboard to showcase the Big Mac Index around the world. The data is provided and maintained by The Economist for open source use. \n",
    "\n",
    "This is a tutorial for me to dive into the world of dashboarding using python visualization packages. \n",
    "\n",
    "Before we enter the dashboarding world, lets do a quick explatory visualization analysis on the data we have, using some of our favourite visualization tools such as MatPlotLib and Seaborn."
   ]
  },
  {
   "cell_type": "code",
   "execution_count": 2,
   "metadata": {},
   "outputs": [],
   "source": [
    "#Importing the required tools: \n",
    "\n",
    "import pandas as pd\n",
    "\n",
    "#Visualization Tools\n",
    "import matplotlib.pyplot as plt\n",
    "import seaborn as sns\n",
    "\n",
    "#Interactive Visualization Tools\n",
    "\n"
   ]
  },
  {
   "cell_type": "code",
   "execution_count": null,
   "metadata": {},
   "outputs": [],
   "source": []
  }
 ],
 "metadata": {
  "kernelspec": {
   "display_name": "Python 3",
   "language": "python",
   "name": "python3"
  },
  "language_info": {
   "codemirror_mode": {
    "name": "ipython",
    "version": 3
   },
   "file_extension": ".py",
   "mimetype": "text/x-python",
   "name": "python",
   "nbconvert_exporter": "python",
   "pygments_lexer": "ipython3",
   "version": "3.7.3"
  }
 },
 "nbformat": 4,
 "nbformat_minor": 2
}
